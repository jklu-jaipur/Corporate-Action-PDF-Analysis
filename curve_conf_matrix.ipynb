{
 "cells": [
  {
   "cell_type": "code",
   "execution_count": 1,
   "metadata": {},
   "outputs": [],
   "source": [
    "import pandas as pd"
   ]
  },
  {
   "cell_type": "code",
   "execution_count": 2,
   "metadata": {},
   "outputs": [],
   "source": [
    "from sklearn.metrics import precision_score, recall_score\n",
    "from sklearn.metrics import f1_score\n",
    "from sklearn.metrics import confusion_matrix\n",
    "from sklearn.metrics import ConfusionMatrixDisplay\n",
    "from sklearn.metrics import roc_curve\n",
    "from sklearn.metrics import RocCurveDisplay\n",
    "from sklearn.metrics import average_precision_score \n",
    "from sklearn.metrics import PrecisionRecallDisplay ,precision_recall_curve"
   ]
  },
  {
   "cell_type": "code",
   "execution_count": 3,
   "metadata": {},
   "outputs": [],
   "source": [
    "def final_func(list1,list2):\n",
    "    confusion_matrix(list1,list2)\n",
    "    cm = confusion_matrix(list1,list2)\n",
    "    cm_display = ConfusionMatrixDisplay(cm).plot()\n",
    "    precision=precision_score(list1,list2)\n",
    "    recall=recall_score(list1,list2)\n",
    "    fscore=f1_score(list1,list2)\n",
    "    print(\"precision :- \",precision,\" recall :- \",recall,\" f1_score :- \",fscore)\n",
    "    fpr, tpr, _ = roc_curve(list1,list2)\n",
    "    roc_display = RocCurveDisplay(fpr=fpr, tpr=tpr).plot()\n",
    "    prec, recall, _ = precision_recall_curve(list1,list2)\n",
    "    pr_display = PrecisionRecallDisplay(precision=prec, recall=recall).plot()\n",
    "    avg_precision=average_precision_score(list1,list2)\n",
    "    print(\"average precision (accuracy):-\",avg_precision*100,\"%\")"
   ]
  },
  {
   "cell_type": "code",
   "execution_count": 4,
   "metadata": {},
   "outputs": [],
   "source": [
    "data = pd.read_csv(r'data/ML_Project_G6 - Testing_Meetings .csv')"
   ]
  },
  {
   "cell_type": "code",
   "execution_count": 5,
   "metadata": {},
   "outputs": [
    {
     "name": "stdout",
     "output_type": "stream",
     "text": [
      "Summary\n",
      "Meeting Scheduled Date\n",
      "Intimation/Confirmed\n",
      "Type of Meeting\n",
      "Unnamed: 4\n",
      "Meeting Scheduled Date.1\n",
      "Intimation/Confirmed.1\n",
      "Type of Meeting.1\n"
     ]
    }
   ],
   "source": [
    "for i in data.columns:\n",
    "    print(i)\n",
    "    "
   ]
  },
  {
   "cell_type": "code",
   "execution_count": 8,
   "metadata": {},
   "outputs": [
    {
     "name": "stdout",
     "output_type": "stream",
     "text": [
      "precision :-  1.0  recall :-  0.7368421052631579  f1_score :-  0.8484848484848484\n",
      "average precision (accuracy):- 98.68421052631578 %\n"
     ]
    },
    {
     "data": {
      "image/png": "[encoded data removed]",
      "text/plain": [
       "<Figure size 432x288 with 2 Axes>"
      ]
     },
     "metadata": {
      "needs_background": "light"
     },
     "output_type": "display_data"
    },
    {
     "data": {
      "image/png": "[encoded data removed]",
      "text/plain": [
       "<Figure size 432x288 with 1 Axes>"
      ]
     },
     "metadata": {
      "needs_background": "light"
     },
     "output_type": "display_data"
    },
    {
     "data": {
      "image/png": "[encoded data removed]",
      "text/plain": [
       "<Figure size 432x288 with 1 Axes>"
      ]
     },
     "metadata": {
      "needs_background": "light"
     },
     "output_type": "display_data"
    }
   ],
   "source": [
    "final_func(data['Type of Meeting'],data['Type of Meeting.1'])"
   ]
  },
  {
   "cell_type": "code",
   "execution_count": null,
   "metadata": {},
   "outputs": [],
   "source": [
    "'''\n",
    "LABELS:\n",
    "\n",
    "Div = Dividend\n",
    "Percent = Dividend percentage (DP)\n",
    "OfferV = Dividend Offer Value\n",
    "FaceV = Share Face Value (‘FV’)\n",
    "DivExDate = Dividend Ex- Date\n",
    "AnnDate = Dividend Announce Date\n",
    "Dec = Divided Decision\n",
    "Ratio = Bonus/ Right Ratio\n",
    "BonusExDate = Bonus/Right Ex-date\n",
    "BonusReq = Bonus Require\n",
    "BonusProv = Bonus Provided \n",
    "BonusDec = Bonus Decision\n",
    "SDate = Meeting Scheduled Date\n",
    "Int = Intimation/Confirmed\n",
    "Type = Type of Meeting \n",
    "\n",
    "'''"
   ]
  },
  {
   "cell_type": "code",
   "execution_count": 11,
   "metadata": {},
   "outputs": [],
   "source": [
    "final = pd.DataFrame({\"entity name\":[\"Meeting Scheduled (SDate) \", \"Intimation/Confirmed (Int)\", \"Type of Meeting (Type)\"],\"precision\":[1.0, 1.0, 1.0],\"recall\":[0.7777777777777778,0.7058823529411765,0.7368421052631579],\"f1_score\":[0.875,0.8275862068965517,0.8484848484848484],\"average precision (accuracy) %\":[97.77,95.58,98.68]}) "
   ]
  },
  {
   "cell_type": "code",
   "execution_count": 12,
   "metadata": {},
   "outputs": [
    {
     "data": {
      "text/html": [
       "<div>\n",
       "<style scoped>\n",
       "    .dataframe tbody tr th:only-of-type {\n",
       "        vertical-align: middle;\n",
       "    }\n",
       "\n",
       "    .dataframe tbody tr th {\n",
       "        vertical-align: top;\n",
       "    }\n",
       "\n",
       "    .dataframe thead th {\n",
       "        text-align: right;\n",
       "    }\n",
       "</style>\n",
       "<table border=\"1\" class=\"dataframe\">\n",
       "  <thead>\n",
       "    <tr style=\"text-align: right;\">\n",
       "      <th></th>\n",
       "      <th>entity name</th>\n",
       "      <th>precision</th>\n",
       "      <th>recall</th>\n",
       "      <th>f1_score</th>\n",
       "      <th>average precision (accuracy) %</th>\n",
       "    </tr>\n",
       "  </thead>\n",
       "  <tbody>\n",
       "    <tr>\n",
       "      <th>0</th>\n",
       "      <td>Meeting Scheduled (SDate)</td>\n",
       "      <td>1.0</td>\n",
       "      <td>0.777778</td>\n",
       "      <td>0.875000</td>\n",
       "      <td>97.77</td>\n",
       "    </tr>\n",
       "    <tr>\n",
       "      <th>1</th>\n",
       "      <td>Intimation/Confirmed (Int)</td>\n",
       "      <td>1.0</td>\n",
       "      <td>0.705882</td>\n",
       "      <td>0.827586</td>\n",
       "      <td>95.58</td>\n",
       "    </tr>\n",
       "    <tr>\n",
       "      <th>2</th>\n",
       "      <td>Type of Meeting (Type)</td>\n",
       "      <td>1.0</td>\n",
       "      <td>0.736842</td>\n",
       "      <td>0.848485</td>\n",
       "      <td>98.68</td>\n",
       "    </tr>\n",
       "  </tbody>\n",
       "</table>\n",
       "</div>"
      ],
      "text/plain": [
       "                  entity name  precision    recall  f1_score  \\\n",
       "0  Meeting Scheduled (SDate)         1.0  0.777778  0.875000   \n",
       "1  Intimation/Confirmed (Int)        1.0  0.705882  0.827586   \n",
       "2      Type of Meeting (Type)        1.0  0.736842  0.848485   \n",
       "\n",
       "   average precision (accuracy) %  \n",
       "0                           97.77  \n",
       "1                           95.58  \n",
       "2                           98.68  "
      ]
     },
     "execution_count": 12,
     "metadata": {},
     "output_type": "execute_result"
    }
   ],
   "source": [
    "final"
   ]
  },
  {
   "cell_type": "code",
   "execution_count": null,
   "metadata": {},
   "outputs": [],
   "source": [
    "ML_Project_G6 - Testing_Bonus"
   ]
  },
  {
   "cell_type": "code",
   "execution_count": 19,
   "metadata": {},
   "outputs": [],
   "source": [
    "data2 = pd.read_csv(r'data/ML_Project_G6 - Testing_Bonus.csv')"
   ]
  },
  {
   "cell_type": "code",
   "execution_count": 20,
   "metadata": {},
   "outputs": [
    {
     "name": "stdout",
     "output_type": "stream",
     "text": [
      "Summary\n",
      "Bonus Require \n",
      "Bonus Provided\n",
      "Bonus/ Right Ratio\n",
      "Bonus Decision\n",
      "Predicted Bonus Require \n",
      "Predicted Bonus Provided\n",
      "Predicted Bonus Decision\n",
      "Bonus/ Right Ratio.1\n",
      "divdent face value \n",
      "divident offer value\n",
      "divident%\n"
     ]
    }
   ],
   "source": [
    "for i in data2.columns:\n",
    "    print(i)\n",
    "    "
   ]
  },
  {
   "cell_type": "code",
   "execution_count": 28,
   "metadata": {},
   "outputs": [
    {
     "data": {
      "text/html": [
       "<div>\n",
       "<style scoped>\n",
       "    .dataframe tbody tr th:only-of-type {\n",
       "        vertical-align: middle;\n",
       "    }\n",
       "\n",
       "    .dataframe tbody tr th {\n",
       "        vertical-align: top;\n",
       "    }\n",
       "\n",
       "    .dataframe thead th {\n",
       "        text-align: right;\n",
       "    }\n",
       "</style>\n",
       "<table border=\"1\" class=\"dataframe\">\n",
       "  <thead>\n",
       "    <tr style=\"text-align: right;\">\n",
       "      <th></th>\n",
       "      <th>Summary</th>\n",
       "      <th>Bonus Require</th>\n",
       "      <th>Bonus Provided</th>\n",
       "      <th>Bonus/ Right Ratio</th>\n",
       "      <th>Bonus Decision</th>\n",
       "      <th>Predicted Bonus Require</th>\n",
       "      <th>Predicted Bonus Provided</th>\n",
       "      <th>Predicted Bonus Decision</th>\n",
       "      <th>Bonus/ Right Ratio.1</th>\n",
       "      <th>divdent face value</th>\n",
       "      <th>divident offer value</th>\n",
       "      <th>divident%</th>\n",
       "    </tr>\n",
       "  </thead>\n",
       "  <tbody>\n",
       "    <tr>\n",
       "      <th>0</th>\n",
       "      <td>ITC Ltd has informed BSE that the Board of Dir...</td>\n",
       "      <td>1</td>\n",
       "      <td>1</td>\n",
       "      <td>0</td>\n",
       "      <td>1</td>\n",
       "      <td>1</td>\n",
       "      <td>1</td>\n",
       "      <td>1</td>\n",
       "      <td>0</td>\n",
       "      <td>NaN</td>\n",
       "      <td>NaN</td>\n",
       "      <td>NaN</td>\n",
       "    </tr>\n",
       "    <tr>\n",
       "      <th>1</th>\n",
       "      <td>GM Breweries Ltd has informed BSE that the Boa...</td>\n",
       "      <td>0</td>\n",
       "      <td>0</td>\n",
       "      <td>1</td>\n",
       "      <td>1</td>\n",
       "      <td>1</td>\n",
       "      <td>1</td>\n",
       "      <td>1</td>\n",
       "      <td>0</td>\n",
       "      <td>NaN</td>\n",
       "      <td>NaN</td>\n",
       "      <td>NaN</td>\n",
       "    </tr>\n",
       "  </tbody>\n",
       "</table>\n",
       "</div>"
      ],
      "text/plain": [
       "                                             Summary  Bonus Require   \\\n",
       "0  ITC Ltd has informed BSE that the Board of Dir...               1   \n",
       "1  GM Breweries Ltd has informed BSE that the Boa...               0   \n",
       "\n",
       "   Bonus Provided  Bonus/ Right Ratio  Bonus Decision  \\\n",
       "0               1                   0               1   \n",
       "1               0                   1               1   \n",
       "\n",
       "   Predicted Bonus Require   Predicted Bonus Provided  \\\n",
       "0                         1                         1   \n",
       "1                         1                         1   \n",
       "\n",
       "   Predicted Bonus Decision  Bonus/ Right Ratio.1  divdent face value   \\\n",
       "0                         1                     0                  NaN   \n",
       "1                         1                     0                  NaN   \n",
       "\n",
       "   divident offer value  divident%  \n",
       "0                   NaN        NaN  \n",
       "1                   NaN        NaN  "
      ]
     },
     "execution_count": 28,
     "metadata": {},
     "output_type": "execute_result"
    }
   ],
   "source": [
    "data2.head(2)"
   ]
  },
  {
   "cell_type": "code",
   "execution_count": 48,
   "metadata": {},
   "outputs": [
    {
     "name": "stdout",
     "output_type": "stream",
     "text": [
      "precision :-  1.0  recall :-  0.75  f1_score :-  0.8571428571428571\n",
      "average precision (accuracy):- 100.0 %\n"
     ]
    },
    {
     "name": "stderr",
     "output_type": "stream",
     "text": [
      "/home/samyak/anaconda3/lib/python3.8/site-packages/sklearn/metrics/_ranking.py:803: UndefinedMetricWarning: No negative samples in y_true, false positive value should be meaningless\n",
      "  warnings.warn(\"No negative samples in y_true, \"\n"
     ]
    },
    {
     "data": {
      "image/png": "[encoded data removed]",
      "text/plain": [
       "<Figure size 432x288 with 2 Axes>"
      ]
     },
     "metadata": {
      "needs_background": "light"
     },
     "output_type": "display_data"
    },
    {
     "data": {
      "image/png": "[encoded data removed]",
      "text/plain": [
       "<Figure size 432x288 with 1 Axes>"
      ]
     },
     "metadata": {
      "needs_background": "light"
     },
     "output_type": "display_data"
    },
    {
     "data": {
      "image/png": "[encoded data removed]",
      "text/plain": [
       "<Figure size 432x288 with 1 Axes>"
      ]
     },
     "metadata": {
      "needs_background": "light"
     },
     "output_type": "display_data"
    }
   ],
   "source": [
    "#final_func(data2['Bonus Provided'],data2['Predicted Bonus Provided'])\n",
    "#final_func(data2['Bonus/ Right Ratio'],data2['Bonus/ Right Ratio.1'])\n",
    "#-------------------ERROR------------------------------------\n",
    "final_func(data2['Bonus Decision'],data2['Predicted Bonus Decision'])\n",
    "#final_func(data2['Bonus Require'],data2['Predicted Bonus Require'])"
   ]
  },
  {
   "cell_type": "code",
   "execution_count": null,
   "metadata": {},
   "outputs": [],
   "source": []
  }
 ],
 "metadata": {
  "kernelspec": {
   "display_name": "Python 3",
   "language": "python",
   "name": "python3"
  },
  "language_info": {
   "codemirror_mode": {
    "name": "ipython",
    "version": 3
   },
   "file_extension": ".py",
   "mimetype": "text/x-python",
   "name": "python",
   "nbconvert_exporter": "python",
   "pygments_lexer": "ipython3",
   "version": "3.8.3"
  }
 },
 "nbformat": 4,
 "nbformat_minor": 4
}
