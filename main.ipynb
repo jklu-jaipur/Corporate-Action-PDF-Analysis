{
 "cells": [
  {
   "cell_type": "code",
   "execution_count": 10,
   "metadata": {},
   "outputs": [],
   "source": [
    "import pandas as pd"
   ]
  },
  {
   "cell_type": "code",
   "execution_count": 11,
   "metadata": {},
   "outputs": [
    {
     "data": {
      "text/html": [
       "<div>\n",
       "<style scoped>\n",
       "    .dataframe tbody tr th:only-of-type {\n",
       "        vertical-align: middle;\n",
       "    }\n",
       "\n",
       "    .dataframe tbody tr th {\n",
       "        vertical-align: top;\n",
       "    }\n",
       "\n",
       "    .dataframe thead th {\n",
       "        text-align: right;\n",
       "    }\n",
       "</style>\n",
       "<table border=\"1\" class=\"dataframe\">\n",
       "  <thead>\n",
       "    <tr style=\"text-align: right;\">\n",
       "      <th></th>\n",
       "      <th>Date</th>\n",
       "      <th>Company Name</th>\n",
       "      <th>Title</th>\n",
       "      <th>Corporate Action</th>\n",
       "      <th>Summary</th>\n",
       "      <th>WebLink</th>\n",
       "    </tr>\n",
       "  </thead>\n",
       "  <tbody>\n",
       "  </tbody>\n",
       "</table>\n",
       "</div>"
      ],
      "text/plain": [
       "Empty DataFrame\n",
       "Columns: [Date, Company Name, Title, Corporate Action, Summary, WebLink]\n",
       "Index: []"
      ]
     },
     "execution_count": 11,
     "metadata": {},
     "output_type": "execute_result"
    }
   ],
   "source": [
    "data = pd.read_csv('data/data.csv')\n",
    "data"
   ]
  },
  {
   "cell_type": "code",
   "execution_count": null,
   "metadata": {},
   "outputs": [],
   "source": []
  },
  {
   "cell_type": "code",
   "execution_count": 28,
   "metadata": {},
   "outputs": [
    {
     "name": "stdout",
     "output_type": "stream",
     "text": [
      "This is further to our letter dated 7th October, 2020, intimating the date of Board Meeting for consideration of Unaudited Standalone and Consolidated Financial Results for the quarter and half year ended 30th September, 2020. Pursuant to Regulation 30 of the Securities and Exchange Board of India (Listing Obligations and Disclosure Requirements) Regulations, 2015 (‘Listing Regulations’), we would like to inform you that the Board today: 1. approved the Unaudited Standalone and Consolidated Financial Results for the quarter and half year ended 30th September, 2020. We attach herewith a copy of the approved Unaudited Standalone and Consolidated Financial Results along with the limited review report of the auditors. A copy of the Press Release issued in this regard is also attached herewith. We are arranging to publish these results in the newspapers as per Regulation 47 of Listing Regulations. 2. declared an interim dividend of Rs. 14.00 per equity share of face value of Re. 1/- each for the financial year ending 31st March, 2021.The record date for the purpose of determining the entitlement of the shareholders for the interim dividend has been fixed as Thursday, 29th October, 2020, and dividend will be paid to the shareholders on or after Thursday, 12th November, 2020. \n"
     ]
    }
   ],
   "source": [
    "s = \"\"\"This is further to our letter dated 7th October, 2020, intimating the date of Board Meeting for\n",
    "consideration of Unaudited Standalone and Consolidated Financial Results for the quarter and\n",
    "half year ended 30th September, 2020. Pursuant to Regulation 30 of the Securities and\n",
    "Exchange Board of India (Listing Obligations and Disclosure Requirements) Regulations,\n",
    "2015 (‘Listing Regulations’), we would like to inform you that the Board today:\n",
    "1. approved the Unaudited Standalone and Consolidated Financial Results for the quarter\n",
    "and half year ended 30th September, 2020. We attach herewith a copy of the approved\n",
    "Unaudited Standalone and Consolidated Financial Results along with the limited review\n",
    "report of the auditors. A copy of the Press Release issued in this regard is also attached\n",
    "herewith.\n",
    "We are arranging to publish these results in the newspapers as per Regulation 47 of\n",
    "Listing Regulations.\n",
    "2. declared an interim dividend of Rs. 14.00 per equity share of face value of Re. 1/- each\n",
    "for the financial year ending 31st March, 2021.The record date for the purpose of\n",
    "determining the entitlement of the shareholders for the interim dividend has been fixed as\n",
    "Thursday, 29th October, 2020, and dividend will be paid to the shareholders on or after\n",
    "Thursday, 12th November, 2020.\n",
    "\"\"\"\n",
    "s = s.replace('\\n',' ')\n",
    "print(s)"
   ]
  },
  {
   "cell_type": "code",
   "execution_count": 23,
   "metadata": {},
   "outputs": [
    {
     "data": {
      "text/plain": [
       "8"
      ]
     },
     "execution_count": 23,
     "metadata": {},
     "output_type": "execute_result"
    }
   ],
   "source": [
    "s.find('further')"
   ]
  },
  {
   "cell_type": "code",
   "execution_count": 25,
   "metadata": {},
   "outputs": [
    {
     "name": "stdout",
     "output_type": "stream",
     "text": [
      "8 15\n"
     ]
    }
   ],
   "source": [
    "import re\n",
    "pos = re.search('further' ,s, re.IGNORECASE)\n",
    "print(pos.start(), pos.end())"
   ]
  },
  {
   "cell_type": "code",
   "execution_count": null,
   "metadata": {},
   "outputs": [],
   "source": []
  }
 ],
 "metadata": {
  "kernelspec": {
   "display_name": "Python 3",
   "language": "python",
   "name": "python3"
  },
  "language_info": {
   "codemirror_mode": {
    "name": "ipython",
    "version": 3
   },
   "file_extension": ".py",
   "mimetype": "text/x-python",
   "name": "python",
   "nbconvert_exporter": "python",
   "pygments_lexer": "ipython3",
   "version": "3.7.0"
  }
 },
 "nbformat": 4,
 "nbformat_minor": 2
}
