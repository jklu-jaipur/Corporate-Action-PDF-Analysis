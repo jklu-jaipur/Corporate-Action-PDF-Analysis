{
 "cells": [
  {
   "cell_type": "markdown",
   "metadata": {},
   "source": [
    "### Import libraries"
   ]
  },
  {
   "cell_type": "code",
   "execution_count": 135,
   "metadata": {},
   "outputs": [],
   "source": [
    "import spacy\n",
    "import random\n",
    "from tqdm import tqdm\n",
    "from nltk.tokenize import sent_tokenize\n",
    "import pandas as pd\n",
    "import re\n",
    "import numpy as np"
   ]
  },
  {
   "cell_type": "markdown",
   "metadata": {},
   "source": [
    "### Read data"
   ]
  },
  {
   "cell_type": "code",
   "execution_count": 136,
   "metadata": {},
   "outputs": [],
   "source": [
    "data = pd.read_csv('data/tagging.csv')"
   ]
  },
  {
   "cell_type": "code",
   "execution_count": 137,
   "metadata": {},
   "outputs": [
    {
     "data": {
      "text/html": [
       "<div>\n",
       "<style scoped>\n",
       "    .dataframe tbody tr th:only-of-type {\n",
       "        vertical-align: middle;\n",
       "    }\n",
       "\n",
       "    .dataframe tbody tr th {\n",
       "        vertical-align: top;\n",
       "    }\n",
       "\n",
       "    .dataframe thead th {\n",
       "        text-align: right;\n",
       "    }\n",
       "</style>\n",
       "<table border=\"1\" class=\"dataframe\">\n",
       "  <thead>\n",
       "    <tr style=\"text-align: right;\">\n",
       "      <th></th>\n",
       "      <th>Date</th>\n",
       "      <th>Company Name</th>\n",
       "      <th>Title</th>\n",
       "      <th>Corporate Action</th>\n",
       "      <th>Web-Link</th>\n",
       "      <th>Summary</th>\n",
       "      <th>Dividend</th>\n",
       "      <th>Dividend percentage (DP)</th>\n",
       "      <th>Dividend Offer Value</th>\n",
       "      <th>Share Face Value (‘FV’)</th>\n",
       "      <th>...</th>\n",
       "      <th>Divided Decision</th>\n",
       "      <th>Bonus/ Right Ratio</th>\n",
       "      <th>Bonus/Right Ex-date</th>\n",
       "      <th>Bonus Require</th>\n",
       "      <th>Bonus Provided</th>\n",
       "      <th>Bonus Decision</th>\n",
       "      <th>Meeting Scheduled Date</th>\n",
       "      <th>Intimation/Confirmed</th>\n",
       "      <th>Type of Meeting</th>\n",
       "      <th>KW</th>\n",
       "    </tr>\n",
       "  </thead>\n",
       "  <tbody>\n",
       "    <tr>\n",
       "      <th>0</th>\n",
       "      <td>01-Nov-20</td>\n",
       "      <td>NACL Industries Ltd</td>\n",
       "      <td>Corporate Action-Board to consider Dividend</td>\n",
       "      <td>Dividend</td>\n",
       "      <td>https://www.bseindia.com/stockinfo/AnnPdfOpen....</td>\n",
       "      <td>In continuation to our letter dated 26th Octob...</td>\n",
       "      <td>dividend</td>\n",
       "      <td>NaN</td>\n",
       "      <td>NaN</td>\n",
       "      <td>NaN</td>\n",
       "      <td>...</td>\n",
       "      <td>consider</td>\n",
       "      <td>NaN</td>\n",
       "      <td>NaN</td>\n",
       "      <td>NaN</td>\n",
       "      <td>NaN</td>\n",
       "      <td>NaN</td>\n",
       "      <td>NaN</td>\n",
       "      <td>NaN</td>\n",
       "      <td>NaN</td>\n",
       "      <td>NaN</td>\n",
       "    </tr>\n",
       "    <tr>\n",
       "      <th>1</th>\n",
       "      <td>31-Oct-20</td>\n",
       "      <td>BALKRISHNA INDUSTRIES LTD.</td>\n",
       "      <td>Board to Consider Q2 results and Second Interi...</td>\n",
       "      <td>Dividend</td>\n",
       "      <td>https://www.bseindia.com/stockinfo/AnnPdfOpen....</td>\n",
       "      <td>Balkrishna Industries Ltd has informed BSE tha...</td>\n",
       "      <td>dividend</td>\n",
       "      <td>NaN</td>\n",
       "      <td>NaN</td>\n",
       "      <td>NaN</td>\n",
       "      <td>...</td>\n",
       "      <td>to consider</td>\n",
       "      <td>NaN</td>\n",
       "      <td>NaN</td>\n",
       "      <td>NaN</td>\n",
       "      <td>NaN</td>\n",
       "      <td>NaN</td>\n",
       "      <td>NaN</td>\n",
       "      <td>NaN</td>\n",
       "      <td>NaN</td>\n",
       "      <td>NaN</td>\n",
       "    </tr>\n",
       "    <tr>\n",
       "      <th>2</th>\n",
       "      <td>30-Oct-20</td>\n",
       "      <td>Vaibhav Global Ltd</td>\n",
       "      <td>Board declares Second Interim Dividend</td>\n",
       "      <td>Dividend</td>\n",
       "      <td>https://www.bseindia.com/xml-data/corpfiling/A...</td>\n",
       "      <td>Vaibhav Global Ltd has informed BSE that the B...</td>\n",
       "      <td>Dividend</td>\n",
       "      <td>NaN</td>\n",
       "      <td>Rs. 5</td>\n",
       "      <td>Rs. 10</td>\n",
       "      <td>...</td>\n",
       "      <td>considered and approved</td>\n",
       "      <td>NaN</td>\n",
       "      <td>NaN</td>\n",
       "      <td>NaN</td>\n",
       "      <td>NaN</td>\n",
       "      <td>NaN</td>\n",
       "      <td>NaN</td>\n",
       "      <td>NaN</td>\n",
       "      <td>NaN</td>\n",
       "      <td>NaN</td>\n",
       "    </tr>\n",
       "    <tr>\n",
       "      <th>3</th>\n",
       "      <td>30-Oct</td>\n",
       "      <td>K.Z.LEASING &amp; FINANCE LTD.</td>\n",
       "      <td>Board Meeting Intimation for Consideration Of ...</td>\n",
       "      <td>Meetings</td>\n",
       "      <td>https://www.bseindia.com/xml-data/corpfiling/A...</td>\n",
       "      <td>K.Z.LEASING &amp;amp; FINANCE LTD.has informed BSE...</td>\n",
       "      <td>NaN</td>\n",
       "      <td>NaN</td>\n",
       "      <td>NaN</td>\n",
       "      <td>NaN</td>\n",
       "      <td>...</td>\n",
       "      <td>NaN</td>\n",
       "      <td>NaN</td>\n",
       "      <td>NaN</td>\n",
       "      <td>NaN</td>\n",
       "      <td>NaN</td>\n",
       "      <td>NaN</td>\n",
       "      <td>05-11-2020</td>\n",
       "      <td>scheduled on</td>\n",
       "      <td>meeting of the Board of Directors</td>\n",
       "      <td>Board Meeting Intimation</td>\n",
       "    </tr>\n",
       "    <tr>\n",
       "      <th>4</th>\n",
       "      <td>30-Oct</td>\n",
       "      <td>KALYANI INVESTMENT COMPANY LTD.</td>\n",
       "      <td>Board Meeting Intimation for Consider And Appr...</td>\n",
       "      <td>Meetings</td>\n",
       "      <td>https://www.bseindia.com/xml-data/corpfiling/A...</td>\n",
       "      <td>KALYANI INVESTMENT COMPANY LTD.has informed BS...</td>\n",
       "      <td>NaN</td>\n",
       "      <td>NaN</td>\n",
       "      <td>NaN</td>\n",
       "      <td>NaN</td>\n",
       "      <td>...</td>\n",
       "      <td>NaN</td>\n",
       "      <td>NaN</td>\n",
       "      <td>NaN</td>\n",
       "      <td>NaN</td>\n",
       "      <td>NaN</td>\n",
       "      <td>NaN</td>\n",
       "      <td>09-11-2020</td>\n",
       "      <td>scheduled on</td>\n",
       "      <td>meeting of the Board of Directors</td>\n",
       "      <td>NaN</td>\n",
       "    </tr>\n",
       "  </tbody>\n",
       "</table>\n",
       "<p>5 rows × 22 columns</p>\n",
       "</div>"
      ],
      "text/plain": [
       "        Date                     Company Name  \\\n",
       "0  01-Nov-20              NACL Industries Ltd   \n",
       "1  31-Oct-20       BALKRISHNA INDUSTRIES LTD.   \n",
       "2  30-Oct-20               Vaibhav Global Ltd   \n",
       "3     30-Oct       K.Z.LEASING & FINANCE LTD.   \n",
       "4     30-Oct  KALYANI INVESTMENT COMPANY LTD.   \n",
       "\n",
       "                                               Title Corporate Action  \\\n",
       "0        Corporate Action-Board to consider Dividend         Dividend   \n",
       "1  Board to Consider Q2 results and Second Interi...         Dividend   \n",
       "2             Board declares Second Interim Dividend         Dividend   \n",
       "3  Board Meeting Intimation for Consideration Of ...         Meetings   \n",
       "4  Board Meeting Intimation for Consider And Appr...         Meetings   \n",
       "\n",
       "                                            Web-Link  \\\n",
       "0  https://www.bseindia.com/stockinfo/AnnPdfOpen....   \n",
       "1  https://www.bseindia.com/stockinfo/AnnPdfOpen....   \n",
       "2  https://www.bseindia.com/xml-data/corpfiling/A...   \n",
       "3  https://www.bseindia.com/xml-data/corpfiling/A...   \n",
       "4  https://www.bseindia.com/xml-data/corpfiling/A...   \n",
       "\n",
       "                                             Summary  Dividend  \\\n",
       "0  In continuation to our letter dated 26th Octob...  dividend   \n",
       "1  Balkrishna Industries Ltd has informed BSE tha...  dividend   \n",
       "2  Vaibhav Global Ltd has informed BSE that the B...  Dividend   \n",
       "3  K.Z.LEASING &amp; FINANCE LTD.has informed BSE...       NaN   \n",
       "4  KALYANI INVESTMENT COMPANY LTD.has informed BS...       NaN   \n",
       "\n",
       "  Dividend percentage (DP) Dividend Offer Value Share Face Value (‘FV’)  ...  \\\n",
       "0                      NaN                  NaN                     NaN  ...   \n",
       "1                      NaN                  NaN                     NaN  ...   \n",
       "2                      NaN                Rs. 5                  Rs. 10  ...   \n",
       "3                      NaN                  NaN                     NaN  ...   \n",
       "4                      NaN                  NaN                     NaN  ...   \n",
       "\n",
       "         Divided Decision  Bonus/ Right Ratio Bonus/Right Ex-date  \\\n",
       "0                 consider                NaN                 NaN   \n",
       "1              to consider                NaN                 NaN   \n",
       "2  considered and approved                NaN                 NaN   \n",
       "3                      NaN                NaN                 NaN   \n",
       "4                      NaN                NaN                 NaN   \n",
       "\n",
       "  Bonus Require   Bonus Provided Bonus Decision Meeting Scheduled Date  \\\n",
       "0            NaN             NaN            NaN                    NaN   \n",
       "1            NaN             NaN            NaN                    NaN   \n",
       "2            NaN             NaN            NaN                    NaN   \n",
       "3            NaN             NaN            NaN             05-11-2020   \n",
       "4            NaN             NaN            NaN             09-11-2020   \n",
       "\n",
       "  Intimation/Confirmed                    Type of Meeting  \\\n",
       "0                  NaN                                NaN   \n",
       "1                  NaN                                NaN   \n",
       "2                  NaN                                NaN   \n",
       "3         scheduled on  meeting of the Board of Directors   \n",
       "4         scheduled on  meeting of the Board of Directors   \n",
       "\n",
       "                         KW  \n",
       "0                       NaN  \n",
       "1                       NaN  \n",
       "2                       NaN  \n",
       "3  Board Meeting Intimation  \n",
       "4                       NaN  \n",
       "\n",
       "[5 rows x 22 columns]"
      ]
     },
     "execution_count": 137,
     "metadata": {},
     "output_type": "execute_result"
    }
   ],
   "source": [
    "data.head(5)"
   ]
  },
  {
   "cell_type": "markdown",
   "metadata": {},
   "source": [
    "### Data Processing\n",
    "\n",
    "Convert the data into specific format of the training data which will be fed in the spacy model "
   ]
  },
  {
   "cell_type": "code",
   "execution_count": 138,
   "metadata": {},
   "outputs": [
    {
     "data": {
      "text/plain": [
       "Index(['Date', 'Company Name', 'Title', 'Corporate Action', 'Web-Link',\n",
       "       'Summary', 'Dividend', 'Dividend percentage (DP)',\n",
       "       'Dividend Offer Value', 'Share Face Value (‘FV’)', 'Dividend Ex- Date',\n",
       "       'Dividend Announce Date', 'Divided Decision ', 'Bonus/ Right Ratio',\n",
       "       'Bonus/Right Ex-date', 'Bonus Require ', 'Bonus Provided',\n",
       "       'Bonus Decision', 'Meeting Scheduled Date', 'Intimation/Confirmed',\n",
       "       'Type of Meeting', 'KW'],\n",
       "      dtype='object')"
      ]
     },
     "execution_count": 138,
     "metadata": {},
     "output_type": "execute_result"
    }
   ],
   "source": [
    "''' \n",
    "Getting the list of columns in dataframe \n",
    "'''\n",
    "data.columns"
   ]
  },
  {
   "cell_type": "code",
   "execution_count": 139,
   "metadata": {},
   "outputs": [
    {
     "data": {
      "text/plain": [
       "'\\nLABELS:\\n\\nDiv = Dividend\\nPercent = Dividend percentage (DP)\\nOfferV = Dividend Offer Value\\nFaceV = Share Face Value (‘FV’)\\nDivExDate = Dividend Ex- Date\\nAnnDate = Dividend Announce Date\\nDec = Divided Decision\\nRatio = Bonus/ Right Ratio\\nBonusExDate = Bonus/Right Ex-date\\nBonusReq = Bonus Require\\nBonusProv = Bonus Provided \\nBonusDec = Bonus Decision\\nSDate = Meeting Scheduled Date\\nInt = Intimation/Confirmed\\nType = Type of Meeting \\n\\n'"
      ]
     },
     "execution_count": 139,
     "metadata": {},
     "output_type": "execute_result"
    }
   ],
   "source": [
    "'''\n",
    "LABELS:\n",
    "\n",
    "Div = Dividend\n",
    "Percent = Dividend percentage (DP)\n",
    "OfferV = Dividend Offer Value\n",
    "FaceV = Share Face Value (‘FV’)\n",
    "DivExDate = Dividend Ex- Date\n",
    "AnnDate = Dividend Announce Date\n",
    "Dec = Divided Decision\n",
    "Ratio = Bonus/ Right Ratio\n",
    "BonusExDate = Bonus/Right Ex-date\n",
    "BonusReq = Bonus Require\n",
    "BonusProv = Bonus Provided \n",
    "BonusDec = Bonus Decision\n",
    "SDate = Meeting Scheduled Date\n",
    "Int = Intimation/Confirmed\n",
    "Type = Type of Meeting \n",
    "\n",
    "'''\n"
   ]
  },
  {
   "cell_type": "code",
   "execution_count": 140,
   "metadata": {},
   "outputs": [],
   "source": [
    "'''\n",
    "Changing the format of the date to match the contents of summary\n",
    "'''\n",
    "\n",
    "date = list(data['Meeting Scheduled Date'])\n",
    "for i in range(len(date)):\n",
    "    if not (date[i] is np.nan):\n",
    "        date[i] = date[i].replace('-','/') \n",
    "        \n",
    "data['Meeting Scheduled Date'] = date"
   ]
  },
  {
   "cell_type": "code",
   "execution_count": 141,
   "metadata": {},
   "outputs": [],
   "source": [
    "'''\n",
    "list of the enities columns of data = columns[]\n",
    "list of the labels given to these entities = labels[]\n",
    "'''\n",
    "columns = ['Dividend', 'Dividend percentage (DP)','Dividend Offer Value', 'Share Face Value (‘FV’)', 'Dividend Ex- Date', 'Dividend Announce Date', 'Divided Decision ', 'Bonus/ Right Ratio', 'Bonus/Right Ex-date', 'Bonus Require ', 'Bonus Provided','Bonus Decision', 'Meeting Scheduled Date', 'Intimation/Confirmed','Type of Meeting']\n",
    "labels = ['Div', 'Percent', 'OfferV', 'FaceV', 'DivExDate', 'AnnDate', 'Dec', 'Ratio', 'BonusExDate', 'BonusReq', 'BonusProv', 'BonusDec', 'SDate', 'Int', 'Type']"
   ]
  },
  {
   "cell_type": "code",
   "execution_count": 142,
   "metadata": {},
   "outputs": [],
   "source": [
    "'''\n",
    "list of summaries (column in data)\n",
    "'''\n",
    "summaries = list(data['Summary'])"
   ]
  },
  {
   "cell_type": "code",
   "execution_count": 143,
   "metadata": {},
   "outputs": [
    {
     "data": {
      "text/html": [
       "<div>\n",
       "<style scoped>\n",
       "    .dataframe tbody tr th:only-of-type {\n",
       "        vertical-align: middle;\n",
       "    }\n",
       "\n",
       "    .dataframe tbody tr th {\n",
       "        vertical-align: top;\n",
       "    }\n",
       "\n",
       "    .dataframe thead th {\n",
       "        text-align: right;\n",
       "    }\n",
       "</style>\n",
       "<table border=\"1\" class=\"dataframe\">\n",
       "  <thead>\n",
       "    <tr style=\"text-align: right;\">\n",
       "      <th></th>\n",
       "      <th>Dividend</th>\n",
       "      <th>Dividend percentage (DP)</th>\n",
       "      <th>Dividend Offer Value</th>\n",
       "      <th>Share Face Value (‘FV’)</th>\n",
       "      <th>Dividend Ex- Date</th>\n",
       "      <th>Dividend Announce Date</th>\n",
       "      <th>Divided Decision</th>\n",
       "      <th>Bonus/ Right Ratio</th>\n",
       "      <th>Bonus/Right Ex-date</th>\n",
       "      <th>Bonus Require</th>\n",
       "      <th>Bonus Provided</th>\n",
       "      <th>Bonus Decision</th>\n",
       "      <th>Meeting Scheduled Date</th>\n",
       "      <th>Intimation/Confirmed</th>\n",
       "      <th>Type of Meeting</th>\n",
       "    </tr>\n",
       "  </thead>\n",
       "  <tbody>\n",
       "    <tr>\n",
       "      <th>57</th>\n",
       "      <td>NaN</td>\n",
       "      <td>NaN</td>\n",
       "      <td>NaN</td>\n",
       "      <td>NaN</td>\n",
       "      <td>NaN</td>\n",
       "      <td>NaN</td>\n",
       "      <td>NaN</td>\n",
       "      <td>NaN</td>\n",
       "      <td>NaN</td>\n",
       "      <td>NaN</td>\n",
       "      <td>NaN</td>\n",
       "      <td>NaN</td>\n",
       "      <td>06/11/2020</td>\n",
       "      <td>scheduled on</td>\n",
       "      <td>meeting of the Board of Directors</td>\n",
       "    </tr>\n",
       "    <tr>\n",
       "      <th>123</th>\n",
       "      <td>dividend</td>\n",
       "      <td>40%</td>\n",
       "      <td>Rs. 0.80</td>\n",
       "      <td>Rs. 2</td>\n",
       "      <td>NaN</td>\n",
       "      <td>June 30, 2020</td>\n",
       "      <td>recommended</td>\n",
       "      <td>NaN</td>\n",
       "      <td>NaN</td>\n",
       "      <td>NaN</td>\n",
       "      <td>NaN</td>\n",
       "      <td>NaN</td>\n",
       "      <td>NaN</td>\n",
       "      <td>NaN</td>\n",
       "      <td>NaN</td>\n",
       "    </tr>\n",
       "    <tr>\n",
       "      <th>152</th>\n",
       "      <td>dividend</td>\n",
       "      <td>100%</td>\n",
       "      <td>Rs. 10</td>\n",
       "      <td>Rs. 10</td>\n",
       "      <td>NaN</td>\n",
       "      <td>NaN</td>\n",
       "      <td>Recommended</td>\n",
       "      <td>NaN</td>\n",
       "      <td>NaN</td>\n",
       "      <td>NaN</td>\n",
       "      <td>NaN</td>\n",
       "      <td>NaN</td>\n",
       "      <td>NaN</td>\n",
       "      <td>NaN</td>\n",
       "      <td>NaN</td>\n",
       "    </tr>\n",
       "    <tr>\n",
       "      <th>77</th>\n",
       "      <td>Dividend</td>\n",
       "      <td>NaN</td>\n",
       "      <td>NaN</td>\n",
       "      <td>NaN</td>\n",
       "      <td>NaN</td>\n",
       "      <td>NaN</td>\n",
       "      <td>consider</td>\n",
       "      <td>NaN</td>\n",
       "      <td>NaN</td>\n",
       "      <td>NaN</td>\n",
       "      <td>NaN</td>\n",
       "      <td>NaN</td>\n",
       "      <td>NaN</td>\n",
       "      <td>NaN</td>\n",
       "      <td>NaN</td>\n",
       "    </tr>\n",
       "    <tr>\n",
       "      <th>295</th>\n",
       "      <td>NaN</td>\n",
       "      <td>NaN</td>\n",
       "      <td>NaN</td>\n",
       "      <td>NaN</td>\n",
       "      <td>NaN</td>\n",
       "      <td>NaN</td>\n",
       "      <td>NaN</td>\n",
       "      <td>NaN</td>\n",
       "      <td>NaN</td>\n",
       "      <td>NaN</td>\n",
       "      <td>NaN</td>\n",
       "      <td>NaN</td>\n",
       "      <td>09/11/2020</td>\n",
       "      <td>scheduled on</td>\n",
       "      <td>meeting of the Board of Directors</td>\n",
       "    </tr>\n",
       "  </tbody>\n",
       "</table>\n",
       "</div>"
      ],
      "text/plain": [
       "     Dividend Dividend percentage (DP) Dividend Offer Value  \\\n",
       "57        NaN                      NaN                  NaN   \n",
       "123  dividend                      40%             Rs. 0.80   \n",
       "152  dividend                     100%               Rs. 10   \n",
       "77   Dividend                      NaN                  NaN   \n",
       "295       NaN                      NaN                  NaN   \n",
       "\n",
       "    Share Face Value (‘FV’) Dividend Ex- Date Dividend Announce Date  \\\n",
       "57                      NaN               NaN                    NaN   \n",
       "123                   Rs. 2               NaN          June 30, 2020   \n",
       "152                  Rs. 10               NaN                    NaN   \n",
       "77                      NaN               NaN                    NaN   \n",
       "295                     NaN               NaN                    NaN   \n",
       "\n",
       "    Divided Decision  Bonus/ Right Ratio  Bonus/Right Ex-date Bonus Require   \\\n",
       "57                NaN                NaN                  NaN            NaN   \n",
       "123       recommended                NaN                  NaN            NaN   \n",
       "152       Recommended                NaN                  NaN            NaN   \n",
       "77           consider                NaN                  NaN            NaN   \n",
       "295               NaN                NaN                  NaN            NaN   \n",
       "\n",
       "    Bonus Provided Bonus Decision Meeting Scheduled Date Intimation/Confirmed  \\\n",
       "57             NaN            NaN             06/11/2020         scheduled on   \n",
       "123            NaN            NaN                    NaN                  NaN   \n",
       "152            NaN            NaN                    NaN                  NaN   \n",
       "77             NaN            NaN                    NaN                  NaN   \n",
       "295            NaN            NaN             09/11/2020         scheduled on   \n",
       "\n",
       "                       Type of Meeting  \n",
       "57   meeting of the Board of Directors  \n",
       "123                                NaN  \n",
       "152                                NaN  \n",
       "77                                 NaN  \n",
       "295  meeting of the Board of Directors  "
      ]
     },
     "execution_count": 143,
     "metadata": {},
     "output_type": "execute_result"
    }
   ],
   "source": [
    "'''\n",
    "drop the rest of the columns other than entities \n",
    "'''\n",
    "data = data[columns]\n",
    "data.sample(n=5)"
   ]
  },
  {
   "cell_type": "code",
   "execution_count": 144,
   "metadata": {},
   "outputs": [],
   "source": [
    "'''\n",
    "converting each row into a list and then appending it to a final 2D list\n",
    "'''\n",
    "\n",
    "tags=[] #2D List\n",
    "\n",
    "for i in range(len(data)):\n",
    "    temp = [str(x) for x in data.iloc[i].tolist()]\n",
    "    tags.append(temp)\n",
    "    temp=[]\n",
    "    \n",
    "#print(tags)\n"
   ]
  },
  {
   "cell_type": "code",
   "execution_count": 145,
   "metadata": {},
   "outputs": [],
   "source": [
    "'''\n",
    "convert the data into specific format of the training data\n",
    "TRAIN_DATA = [\n",
    "    (\"Who is Shaka Khan?\", {\"entities\": [(7, 17, \"PERSON\")]}),\n",
    "    (\"I like London and Berlin.\", {\"entities\": [(7, 13, \"LOC\"), (18, 24, \"LOC\")]}),\n",
    "]\n",
    "'''\n",
    "\n",
    "train_data = []\n",
    "\n",
    "count = 0;\n",
    "for summary,tag in zip(summaries, tags):\n",
    "    temp=[]\n",
    "    for index in range(len(tag)):\n",
    "        entity = tag[index]\n",
    "        if entity != 'nan':\n",
    "            pos = summary.find(entity)\n",
    "            if(pos != -1):\n",
    "                entity_set = (pos, pos+len(entity), labels[index]) #(350, 358, 'Summary')\n",
    "                temp.append(entity_set) #list of entitity (described above)\n",
    "        \n",
    "    #print(temp)\n",
    "    \n",
    "    ''' temp = [(350, 358, 'Summary'), (None, None, 'Dividend'), (None, None, 'Dividend percentage (DP)'), (None, None, 'Dividend Offer Value'), (None, None, 'Share Face Value (‘FV’)'), (None, None, 'Dividend Ex- Date'), (145, 153, 'Dividend Announce Date'), (None, None, 'Divided Decision'), (None, None, 'Bonus/ Right Ratio'), (None, None, 'Bonus/Right Ex-date'), (None, None, 'Bonus Require '), (None, None, 'Bonus Provided'), (None, None, 'Bonus Decision'), (None, None, 'Meeting Scheduled Date'), (None, None, 'Intimation/Confirmed')]'''\n",
    "    \n",
    "    inner_dict = {'entities': temp}\n",
    "    inner_set = (summary, inner_dict)\n",
    "    train_data.append(inner_set)\n",
    "    \n",
    "    count+=1"
   ]
  },
  {
   "cell_type": "code",
   "execution_count": 158,
   "metadata": {},
   "outputs": [
    {
     "name": "stdout",
     "output_type": "stream",
     "text": [
      "('Pursuant to Regulation 42 of the SEBI (Listing Obligations and Disclosure Requirements) Regulations, 2015, we wish to inform you that the Register of Members and Share Transfer Register shall remain closed from 9th December, 2020 to 15th December, 2020 (both days inclusive) for the purpose of 32nd Annual General Meeting of the Company which is scheduled to be held on Tuesday, the 15th December, 2020 through Video Conferencing (VC) or Other Audio-Visual Means (OAVM) in compliance with Circular dated May 5, 2020 read with Circulars dated April 8, 2020 and April 13, 2020 issued by the Ministry of Corporate Affairs.&lt;BR&gt; &lt;BR&gt; Kindly take the above information on record and acknowledge receipt of the same.', {'entities': [(233, 252, 'SDate'), (346, 369, 'Int'), (299, 321, 'Type')]})\n"
     ]
    }
   ],
   "source": [
    "'''\n",
    "training data\n",
    "'''\n",
    "print(train_data[24])"
   ]
  },
  {
   "cell_type": "code",
   "execution_count": 159,
   "metadata": {},
   "outputs": [
    {
     "name": "stdout",
     "output_type": "stream",
     "text": [
      "152\n",
      "{'entities': [(14, 22, 'Div'), (72, 76, 'Percent'), (26, 32, 'OfferV'), (26, 32, 'FaceV'), (0, 11, 'Dec')]}\n"
     ]
    }
   ],
   "source": [
    "for i in range(len(train_data)):\n",
    "    if(train_data[i][0] == 'Recommended a dividend of Rs. 10/- per Ordinary Share of Rs. 10/- each (100%) and Rs. 2.504 per partly paid Ordinary Share of Rs. 10/- each (paid-up Rs. 2.504 per share) (100%) to the shareholders for the Financial Year ended March 31, 2020.'):\n",
    "        print(i)\n",
    "        print(train_data[i][1])"
   ]
  },
  {
   "cell_type": "code",
   "execution_count": null,
   "metadata": {},
   "outputs": [],
   "source": []
  },
  {
   "cell_type": "code",
   "execution_count": null,
   "metadata": {},
   "outputs": [],
   "source": []
  },
  {
   "cell_type": "code",
   "execution_count": null,
   "metadata": {},
   "outputs": [],
   "source": []
  },
  {
   "cell_type": "code",
   "execution_count": 147,
   "metadata": {},
   "outputs": [],
   "source": [
    "exception_summary=[]\n",
    "exception_annotations=[]"
   ]
  },
  {
   "cell_type": "code",
   "execution_count": 148,
   "metadata": {},
   "outputs": [
    {
     "name": "stdout",
     "output_type": "stream",
     "text": [
      "Thyrocare Technologies Ltd has informed BSE that the Board of Directors of the Company at its meeting held on October 28, 2020, inter alia, have approved payment of interim dividend for the financial year 2020-21, at the rate of Rs. 10/- (Rupees Ten only) per share (100% of the face value of Rs. 10/? each).\n",
      "[(173, 181, 'Div'), (267, 271, 'Percent'), (229, 235, 'OfferV'), (229, 235, 'FaceV'), (145, 153, 'Dec')]\n",
      "-------------------------------------------\n",
      "The Board declared an interim dividend of Rs.10 (100%) per equity share of Rs.10 each. &lt;BR&gt; &lt;BR&gt; As intimated vide our letter dated October 13, 2020, Thursday, October 29, 2020 is fixed as the Record Date to ascertain the list of shareholders eligible for the aforesaid interim dividend to be paid on or before November 19, 2020.&lt;BR&gt;\n",
      "[(30, 38, 'Div'), (49, 53, 'Percent'), (42, 47, 'OfferV'), (42, 47, 'FaceV'), (323, 340, 'DivExDate'), (10, 18, 'Dec')]\n",
      "-------------------------------------------\n",
      "We would like to inform you that at the Board Meeting held today, the Directors have declared a second interim dividend of Rs. 12 per Equity Share of Rs. 1 each of the Company.&lt;BR&gt; &lt;BR&gt; The second interim dividend shall be paid on Tuesday, November 3, 2020 to the equity shareholders of the Company, whose names appear on the Register of Members of the Company or in the records of the Depositories as beneficial owners of the shares as on Thursday, October 15, 2020 which is the Record Date fixed for the purpose.\n",
      "[(111, 119, 'Div'), (123, 129, 'OfferV'), (123, 128, 'FaceV'), (252, 268, 'DivExDate'), (85, 93, 'Dec')]\n",
      "-------------------------------------------\n",
      "Force Motors Ltd has informed BSE that the Board of Directors of the Company at its meeting held on June 29, 2020, inter alia, has recommended a dividend of Rs. 10/- (Rupees ten only) per equity share of Rs. 10/- each, for the Financial Year ended March 31, 2020.\n",
      "[(145, 153, 'Div'), (157, 163, 'OfferV'), (157, 163, 'FaceV'), (100, 113, 'AnnDate'), (131, 142, 'Dec')]\n",
      "-------------------------------------------\n",
      "We wish to inform you that the Board of Directors of the Company at their meeting held today, which started at 4.45 p.m. and concluded at 7.15 p.m., have :&lt;BR&gt; &lt;BR&gt; a) approved the Audited Financial Results (Standalone &amp; Consolidated) and Statement of Assets &amp; Liabilities and Cash Flow statement for the financial year ended March 31, 2020 together with Audit Report (copy attached).&lt;BR&gt; &lt;BR&gt; b) recommended a dividend of Rs.0.40 per share (4%) each on Non-convertible Cumulative Redeemable Preference Shares (Unlisted) of Rs.10/- each for the financial year ended March 31, 2020, for approval of the members at the forthcoming Annual General Meeting.&lt;BR&gt; &lt;BR&gt; c) recommended a dividend of Rs.1/- per share (10%) on Equity Shares (Listed) of Rs.10/- each for the financial year ended March 31, 2020, for approval of the members at the forthcoming Annual General Meeting.&lt;BR&gt;\n",
      "[(443, 451, 'Div'), (753, 756, 'Percent'), (556, 560, 'OfferV'), (556, 561, 'FaceV'), (429, 440, 'Dec')]\n",
      "-------------------------------------------\n",
      "The Board of Directors of the Company has also recommended, subject to the approval of the Shareholders at the Annual General Meeting dividend as under: Dividend @ 125% i.e Rs. 2.50 /- per Equity Share of the face value of Rs. 2/- each for the financial year ended 31° March, 2020. \n",
      "[(134, 142, 'Div'), (164, 168, 'Percent'), (173, 181, 'OfferV'), (173, 178, 'FaceV'), (47, 58, 'Dec')]\n",
      "-------------------------------------------\n",
      "Recommended a dividend of Rs. 10/- per Ordinary Share of Rs. 10/- each (100%) and Rs. 2.504 per partly paid Ordinary Share of Rs. 10/- each (paid-up Rs. 2.504 per share) (100%) to the shareholders for the Financial Year ended March 31, 2020.\n",
      "[(14, 22, 'Div'), (72, 76, 'Percent'), (26, 32, 'OfferV'), (26, 32, 'FaceV'), (0, 11, 'Dec')]\n",
      "-------------------------------------------\n",
      "The Board of Directors has considered, approved and recommended issue of one Bonus Share for every one equity share held by the equity shareholders of the&lt;BR&gt; Company. The bonus issue of equity shares is subject to the approval of the shareholders and any other applicable statutory and regulatory approvals, as may be required.&lt;BR&gt; &lt;BR&gt; The Bonus shares once allotted shall rank pari-passu in all respects and carry the same rights of the existing Equity Shares and shall be entitled to participate in full in any dividend and other corporate action, recommended and declared after the issue and allotment of such Bonus Shares.&lt;BR&gt; The details pertaining to the Bonus issue of equity shares as per Regulations 30 of the SEBI (Listing Obligations and Disclosure Requirements) Regulations, 2015.\n",
      "[(73, 76, 'BonusReq'), (73, 76, 'BonusProv'), (52, 63, 'BonusDec')]\n",
      "-------------------------------------------\n",
      "The Indian Wood Products Company Ltd has informed BSE that the Board of Directors of the Company at its meeting held on January 02, 2019, inter alia, has considered and, subject to the approval of shareholder, recommends:&lt;BR&gt;&lt;BR&gt;1. Sub-Division of Equity Shares of the Company from the existing face value of Rs. 10/- per Equity Shares to face value of Rs. 2/- per Equity Shares as on the Record Date to be fixed on a later date.&lt;BR&gt;&lt;BR&gt;2. Issue of Bonus Shares in a proportion 1 (One) Bonus Shares of Rs. 2/- (Rupees Two) each for every existing 1 (One) fully paid-up Equity Shares of Rs. 2/- (Rupees Two) each held by the shareholders of the Company as on the Record Date to be fixed on a later date.\n",
      "[(502, 509, 'BonusReq'), (502, 509, 'BonusProv'), (210, 220, 'BonusDec')]\n",
      "-------------------------------------------\n",
      "Oriental Aromatics Ltd has informed BSE that the Board of Directors of the Company at its meeting held October 26, 2018, inter alia, had considered and approved the following, subject to approval of the shareholders:&lt;BR&gt;&lt;BR&gt;1. Sub-division of equity shares of face value of Rs. 10/- each into equity shares of face value of Rs. 5/- each; and&lt;BR&gt;&lt;BR&gt;2. Issue of 1 (one) fully paid bonus equity share of the face value of Rs. 5/- each for 1 (one) equity share of the face value of Rs. 5/- each (i.e. as adjusted for sub-division of shares);\n",
      "[(385, 392, 'BonusReq'), (385, 392, 'BonusProv'), (137, 147, 'BonusDec')]\n",
      "-------------------------------------------\n",
      "Board recommends Capitalization of Reserves and issue of fully paid Bonus Shares in the ratio of one Bonus equity share of Rs. 5/- each for one existing equity share of Rs. 5/- each subject to the approval of shareholders which would be taken through the process of Postal Ballot and remote E-voting.\n",
      "[(97, 100, 'BonusReq'), (97, 100, 'BonusProv'), (6, 16, 'BonusDec')]\n",
      "-------------------------------------------\n",
      "Jubilant FoodWorks Ltd has informed BSE that the Board of Directors of the Company at its meeting held on May 08, 2018, inter alia, has recommended issue of Bonus Shares to the holders of equity shares of the Company in the proportion of 1 (one) equity share of INR 10/- (Rupees Ten) each fully paid up for every 1 (one) equity share of INR 10/- (Rupees Ten) each fully paid up held as on the record date. Record date will be intimated in due course.&lt;BR&gt;&lt;BR&gt;Subject to the shareholders&apos; approval, Bonus Shares will be credited to the demat account of the shareholders or share certificates in respect thereof will be dispatched to shareholders on or before July 07, 2018.&lt;BR&gt;&lt;BR&gt;For the purpose of issue of Bonus Shares, the Board of Directors have also approved increase in Authorised Share Capital of the Company from INR 80 crores to INR 150 crores, subject to approval of the shareholders of the Company.\n",
      "[(238, 245, 'BonusReq'), (238, 245, 'BonusProv'), (136, 147, 'BonusDec')]\n",
      "-------------------------------------------\n",
      "LG Balakrishnan &amp; Bros Ltd has informed BSE that the Board of Directors of the Company at its meeting held on April 28, 2018, inter alia, had considered and approved the following:&lt;BR&gt;&lt;BR&gt;1. The Board of Directors have recommended a Dividend of Rs. 4.50/- per Share of Rs.10/-each (45% on the face value of Rs.10/- each) for the financial year ended March 31, 2018, subject to the approval of shareholders in the upcoming&lt;BR&gt;Annual General Meeting.&lt;BR&gt;&lt;BR&gt;2. Board of Directors had recommended issue of Bonus shares to the Shareholders of the Company in ratio of 1 (One) Bonus Equity Share of Rs. 10/- each fully paid-up for every 1 (One) existing Equity Share of Rs.10/- each fully paid-up (in the ratio of 1:1) held by the shareholders as on the Record date to be fixed separately subject to Shareholders and other regulatory approvals as may be required. The approval of Shareholders is being sought through postal ballot route.\n",
      "[(597, 604, 'BonusReq'), (597, 604, 'BonusProv'), (235, 246, 'BonusDec')]\n",
      "-------------------------------------------\n",
      "Essel Propack Ltd has informed BSE that Board of Directors of the Company at its Meeting held on April 26, 2014 has recommended Bonus Issue of Equity Shares in the ratio of 1 (One) Equity Share of Rs. 2/- each for every 1 (One) Equity Share of Rs. 2/- each held by the shareholders of the Company as on the record date/date fixed for this purpose, subject to the approval of the Members.\n",
      "[(173, 180, 'BonusReq'), (173, 180, 'BonusProv'), (116, 127, 'BonusDec')]\n",
      "-------------------------------------------\n",
      "This is to inform you that the Board of Directors at its Meeting held today has recommended Bonus Issue of Equity Shares in the ratio of 1 (One) Equity Share of Re. 1/- each for every 1 (One) Equity Share of Re.1/- each held by the shareholders of the Company as on the record date, subject to the approval of the shareholders. &lt;BR&gt; &lt;BR&gt; The details pertaining to the Bonus Issue of Equity Shares as per Regulation 30 of the SEBI (Listing Obligations and Disclosure Requirements) Regulations, 2015 is provided in the Annexure.&lt;BR&gt; &lt;BR&gt; &lt;BR&gt; The above information is also available on the website of the Company: www.tcs.com&lt;BR&gt;\n",
      "[(137, 144, 'BonusReq'), (137, 144, 'BonusProv'), (80, 91, 'BonusDec')]\n",
      "-------------------------------------------\n"
     ]
    }
   ],
   "source": [
    "l=[]\n",
    "s=()\n",
    "i=0\n",
    "index=[]\n",
    "for set_temp in train_data:\n",
    "    annotations = set_temp[1]['entities']\n",
    "    l=[]\n",
    "    for entity in annotations:\n",
    "        l.append(entity[0])\n",
    "        l.append(entity[1])\n",
    "    if( len(l) > len(set(l)) ):\n",
    "        print(set_temp[0])\n",
    "        print(annotations)\n",
    "        print(\"-------------------------------------------\")\n",
    "        exception_summary.append(set_temp[0])\n",
    "        exception_annotations.append(set_temp[1])\n",
    "        index.append(i)\n",
    "    i+=1"
   ]
  },
  {
   "cell_type": "code",
   "execution_count": 149,
   "metadata": {},
   "outputs": [
    {
     "data": {
      "text/plain": [
       "[18, 102, 113, 129, 135, 143, 152, 180, 215, 217, 242, 248, 253, 254, 255]"
      ]
     },
     "execution_count": 149,
     "metadata": {},
     "output_type": "execute_result"
    }
   ],
   "source": [
    "index"
   ]
  },
  {
   "cell_type": "code",
   "execution_count": 206,
   "metadata": {},
   "outputs": [],
   "source": [
    "x=0\n",
    "for i in index:\n",
    "    train_data[i][1]['entities'] = ast.literal_eval(exception['Annotations'][x][13:-1])\n",
    "    x+=1"
   ]
  },
  {
   "cell_type": "code",
   "execution_count": 209,
   "metadata": {},
   "outputs": [],
   "source": [
    "t = pd.DataFrame(columns=['Summary', 'Annotations'])"
   ]
  },
  {
   "cell_type": "code",
   "execution_count": 210,
   "metadata": {},
   "outputs": [],
   "source": [
    "s=[]\n",
    "a=[]\n",
    "for set_temp in train_data:\n",
    "    s.append(set_temp[0])\n",
    "    a.append(set_temp[1])"
   ]
  },
  {
   "cell_type": "code",
   "execution_count": 211,
   "metadata": {},
   "outputs": [],
   "source": [
    "t['Summary']=s\n",
    "t['Annotations']=a"
   ]
  },
  {
   "cell_type": "code",
   "execution_count": 212,
   "metadata": {},
   "outputs": [],
   "source": [
    "t.to_csv('data/training_data.csv')"
   ]
  },
  {
   "cell_type": "code",
   "execution_count": null,
   "metadata": {},
   "outputs": [],
   "source": []
  },
  {
   "cell_type": "code",
   "execution_count": null,
   "metadata": {},
   "outputs": [],
   "source": []
  },
  {
   "cell_type": "code",
   "execution_count": null,
   "metadata": {},
   "outputs": [],
   "source": []
  },
  {
   "cell_type": "code",
   "execution_count": null,
   "metadata": {},
   "outputs": [],
   "source": []
  },
  {
   "cell_type": "code",
   "execution_count": null,
   "metadata": {},
   "outputs": [],
   "source": []
  },
  {
   "cell_type": "code",
   "execution_count": null,
   "metadata": {},
   "outputs": [],
   "source": []
  },
  {
   "cell_type": "code",
   "execution_count": null,
   "metadata": {},
   "outputs": [],
   "source": []
  },
  {
   "cell_type": "code",
   "execution_count": null,
   "metadata": {},
   "outputs": [],
   "source": []
  },
  {
   "cell_type": "code",
   "execution_count": null,
   "metadata": {},
   "outputs": [],
   "source": []
  },
  {
   "cell_type": "code",
   "execution_count": null,
   "metadata": {},
   "outputs": [],
   "source": []
  },
  {
   "cell_type": "code",
   "execution_count": null,
   "metadata": {},
   "outputs": [],
   "source": []
  },
  {
   "cell_type": "code",
   "execution_count": null,
   "metadata": {},
   "outputs": [],
   "source": []
  },
  {
   "cell_type": "code",
   "execution_count": null,
   "metadata": {},
   "outputs": [],
   "source": []
  },
  {
   "cell_type": "markdown",
   "metadata": {},
   "source": [
    "### Load NER (Name Entity Recognition)spacy model"
   ]
  },
  {
   "cell_type": "code",
   "execution_count": 14,
   "metadata": {},
   "outputs": [],
   "source": [
    "nlp = spacy.blank('en')"
   ]
  },
  {
   "cell_type": "code",
   "execution_count": 15,
   "metadata": {},
   "outputs": [],
   "source": [
    "'''\n",
    "creating and adding \"ner\" pipeline if not exist\n",
    "'''\n",
    "\n",
    "if \"ner\" not in nlp.pipe_names:\n",
    "    ner = nlp.create_pipe(\"ner\")\n",
    "    nlp.add_pipe(ner, last=True)\n",
    "else:\n",
    "    ner = nlp.get_pipe(\"ner\")\n",
    "    \n"
   ]
  },
  {
   "cell_type": "code",
   "execution_count": 16,
   "metadata": {},
   "outputs": [],
   "source": [
    "'''\n",
    "fixing number of iterations model has to do in training\n",
    "At each iteration, the training data is shuffled to ensure the model doesn’t make any generalizations based on the order of examples.\n",
    "'''\n",
    "\n",
    "n_iter=100"
   ]
  },
  {
   "cell_type": "markdown",
   "metadata": {},
   "source": [
    "### Add the above made labels in the ner (name entity recognition) pipe"
   ]
  },
  {
   "cell_type": "code",
   "execution_count": 17,
   "metadata": {},
   "outputs": [],
   "source": [
    "for _, annotations in train_data:\n",
    "    for ent in annotations.get('entities'):\n",
    "        ner.add_label(ent[2])"
   ]
  },
  {
   "cell_type": "code",
   "execution_count": 18,
   "metadata": {},
   "outputs": [],
   "source": [
    "'''\n",
    "get names of other pipes to disable them during training\n",
    "'''\n",
    "other_pipes = [pipe for pipe in nlp.pipe_names if pipe != 'ner']"
   ]
  },
  {
   "cell_type": "markdown",
   "metadata": {},
   "source": [
    "### Train the model"
   ]
  },
  {
   "cell_type": "code",
   "execution_count": 19,
   "metadata": {
    "scrolled": true
   },
   "outputs": [
    {
     "name": "stderr",
     "output_type": "stream",
     "text": [
      "C:\\Users\\Vanshika Sharma\\Anaconda3\\lib\\site-packages\\spacy\\language.py:639: UserWarning: [W033] Training a new parser or NER using a model with no lexeme normalization table. This may degrade the performance of the model to some degree. If this is intentional or the language you're using doesn't have a normalization table, please ignore this warning. If this is surprising, make sure you have the spacy-lookups-data package installed. The languages with lexeme normalization tables are currently: da, de, el, en, id, lb, pt, ru, sr, ta, th.\n",
      "  **kwargs\n",
      "  0%|          | 1/300 [00:00<01:39,  3.02it/s]C:\\Users\\Vanshika Sharma\\Anaconda3\\lib\\site-packages\\spacy\\language.py:482: UserWarning: [W030] Some entities could not be aligned in the text \"Recommended a final dividend of Re 0.01/- per Equi...\" with entities \"[(20, 28, 'Div'), (64, 66, 'Percent'), (32, 39, 'O...\". Use `spacy.gold.biluo_tags_from_offsets(nlp.make_doc(text), entities)` to check the alignment. Misaligned entities ('-') will be ignored during training.\n",
      "  gold = GoldParse(doc, **gold)\n",
      "  1%|          | 3/300 [00:00<01:16,  3.88it/s]C:\\Users\\Vanshika Sharma\\Anaconda3\\lib\\site-packages\\spacy\\language.py:482: UserWarning: [W030] Some entities could not be aligned in the text \"Junction Fabrics and Apparels Ltd has informed BSE...\" with entities \"[(167, 176, 'BonusDec')]\". Use `spacy.gold.biluo_tags_from_offsets(nlp.make_doc(text), entities)` to check the alignment. Misaligned entities ('-') will be ignored during training.\n",
      "  gold = GoldParse(doc, **gold)\n",
      "  3%|▎         | 9/300 [00:00<00:40,  7.20it/s]C:\\Users\\Vanshika Sharma\\Anaconda3\\lib\\site-packages\\spacy\\language.py:482: UserWarning: [W030] Some entities could not be aligned in the text \"This is to inform you that the 21st AGM of the Com...\" with entities \"[(79, 109, 'SDate'), (55, 69, 'Int'), (36, 39, 'Ty...\". Use `spacy.gold.biluo_tags_from_offsets(nlp.make_doc(text), entities)` to check the alignment. Misaligned entities ('-') will be ignored during training.\n",
      "  gold = GoldParse(doc, **gold)\n",
      "  4%|▎         | 11/300 [00:01<00:34,  8.33it/s]C:\\Users\\Vanshika Sharma\\Anaconda3\\lib\\site-packages\\spacy\\language.py:482: UserWarning: [W030] Some entities could not be aligned in the text \"The Board of Directors at their meeting held today...\" with entities \"[(61, 62, 'BonusReq'), (63, 64, 'BonusProv'), (83,...\". Use `spacy.gold.biluo_tags_from_offsets(nlp.make_doc(text), entities)` to check the alignment. Misaligned entities ('-') will be ignored during training.\n",
      "  gold = GoldParse(doc, **gold)\n",
      "  4%|▍         | 13/300 [00:01<00:29,  9.63it/s]C:\\Users\\Vanshika Sharma\\Anaconda3\\lib\\site-packages\\spacy\\language.py:482: UserWarning: [W030] Some entities could not be aligned in the text \"Colgate Palmolive (India) Ltd has informed BSE tha...\" with entities \"[(313, 321, 'Div'), (184, 190, 'OfferV'), (236, 24...\". Use `spacy.gold.biluo_tags_from_offsets(nlp.make_doc(text), entities)` to check the alignment. Misaligned entities ('-') will be ignored during training.\n",
      "  gold = GoldParse(doc, **gold)\n",
      "C:\\Users\\Vanshika Sharma\\Anaconda3\\lib\\site-packages\\spacy\\language.py:482: UserWarning: [W030] Some entities could not be aligned in the text \"Karur Vysya Bank Ltd has informed BSE that the Boa...\" with entities \"[(132, 139, 'BonusDec')]\". Use `spacy.gold.biluo_tags_from_offsets(nlp.make_doc(text), entities)` to check the alignment. Misaligned entities ('-') will be ignored during training.\n",
      "  gold = GoldParse(doc, **gold)\n",
      "  5%|▌         | 15/300 [00:01<00:28, 10.14it/s]C:\\Users\\Vanshika Sharma\\Anaconda3\\lib\\site-packages\\spacy\\language.py:482: UserWarning: [W030] Some entities could not be aligned in the text \"1.Increase in Authorised Share Capital of the Comp...\" with entities \"[(0, 1, 'BonusReq'), (73, 74, 'BonusProv')]\". Use `spacy.gold.biluo_tags_from_offsets(nlp.make_doc(text), entities)` to check the alignment. Misaligned entities ('-') will be ignored during training.\n",
      "  gold = GoldParse(doc, **gold)\n",
      "  6%|▌         | 17/300 [00:01<00:27, 10.39it/s]C:\\Users\\Vanshika Sharma\\Anaconda3\\lib\\site-packages\\spacy\\language.py:482: UserWarning: [W030] Some entities could not be aligned in the text \"Ambuja Cements Ltd has informed BSE that the Board...\" with entities \"[(178, 184, 'OfferV'), (215, 219, 'FaceV'), (146, ...\". Use `spacy.gold.biluo_tags_from_offsets(nlp.make_doc(text), entities)` to check the alignment. Misaligned entities ('-') will be ignored during training.\n",
      "  gold = GoldParse(doc, **gold)\n",
      "  6%|▋         | 19/300 [00:01<00:24, 11.50it/s]C:\\Users\\Vanshika Sharma\\Anaconda3\\lib\\site-packages\\spacy\\language.py:482: UserWarning: [W030] Some entities could not be aligned in the text \"Kamdhenu Ltd has informed BSE that the Board of Di...\" with entities \"[(216, 224, 'Div'), (305, 307, 'Percent'), (271, 2...\". Use `spacy.gold.biluo_tags_from_offsets(nlp.make_doc(text), entities)` to check the alignment. Misaligned entities ('-') will be ignored during training.\n",
      "  gold = GoldParse(doc, **gold)\n",
      "C:\\Users\\Vanshika Sharma\\Anaconda3\\lib\\site-packages\\spacy\\language.py:482: UserWarning: [W030] Some entities could not be aligned in the text \"Supreme Industries Ltd has informed BSE that the B...\" with entities \"[(179, 183, 'Percent'), (189, 194, 'OfferV'), (246...\". Use `spacy.gold.biluo_tags_from_offsets(nlp.make_doc(text), entities)` to check the alignment. Misaligned entities ('-') will be ignored during training.\n",
      "  gold = GoldParse(doc, **gold)\n",
      "  7%|▋         | 21/300 [00:01<00:23, 11.70it/s]C:\\Users\\Vanshika Sharma\\Anaconda3\\lib\\site-packages\\spacy\\language.py:482: UserWarning: [W030] Some entities could not be aligned in the text \"Vaibhav Global Ltd has informed BSE that the Board...\" with entities \"[(208, 216, 'Div'), (220, 225, 'OfferV'), (274, 28...\". Use `spacy.gold.biluo_tags_from_offsets(nlp.make_doc(text), entities)` to check the alignment. Misaligned entities ('-') will be ignored during training.\n",
      "  gold = GoldParse(doc, **gold)\n",
      "  8%|▊         | 23/300 [00:02<00:24, 11.27it/s]C:\\Users\\Vanshika Sharma\\Anaconda3\\lib\\site-packages\\spacy\\language.py:482: UserWarning: [W030] Some entities could not be aligned in the text \"Crompton Greaves Consumer Electricals Ltd has info...\" with entities \"[(227, 235, 'Div'), (239, 244, 'OfferV'), (280, 28...\". Use `spacy.gold.biluo_tags_from_offsets(nlp.make_doc(text), entities)` to check the alignment. Misaligned entities ('-') will be ignored during training.\n",
      "  gold = GoldParse(doc, **gold)\n",
      "  8%|▊         | 25/300 [00:02<00:23, 11.86it/s]C:\\Users\\Vanshika Sharma\\Anaconda3\\lib\\site-packages\\spacy\\language.py:482: UserWarning: [W030] Some entities could not be aligned in the text \"Vikram Thermo India Ltd has informed BSE that the ...\" with entities \"[(232, 235, 'Percent'), (284, 292, 'OfferV'), (256...\". Use `spacy.gold.biluo_tags_from_offsets(nlp.make_doc(text), entities)` to check the alignment. Misaligned entities ('-') will be ignored during training.\n",
      "  gold = GoldParse(doc, **gold)\n",
      " 12%|█▏        | 35/300 [00:02<00:18, 14.10it/s]C:\\Users\\Vanshika Sharma\\Anaconda3\\lib\\site-packages\\spacy\\language.py:482: UserWarning: [W030] Some entities could not be aligned in the text \"We wish to inform you that at the meeting of the B...\" with entities \"[(140, 141, 'BonusReq'), (130, 131, 'BonusProv'), ...\". Use `spacy.gold.biluo_tags_from_offsets(nlp.make_doc(text), entities)` to check the alignment. Misaligned entities ('-') will be ignored during training.\n",
      "  gold = GoldParse(doc, **gold)\n",
      " 12%|█▏        | 37/300 [00:03<00:22, 11.83it/s]\n",
      "  0%|          | 1/300 [00:00<00:34,  8.71it/s]\n",
      "  0%|          | 0/300 [00:00<?, ?it/s]"
     ]
    },
    {
     "name": "stdout",
     "output_type": "stream",
     "text": [
      "{'ner': 1662.6420784432219}\n",
      "{'ner': 5.883854251024134}\n"
     ]
    },
    {
     "name": "stderr",
     "output_type": "stream",
     "text": [
      "C:\\Users\\Vanshika Sharma\\Anaconda3\\lib\\site-packages\\spacy\\language.py:482: UserWarning: [W030] Some entities could not be aligned in the text \"We would like to inform you that the Board of Dire...\" with entities \"[(383, 391, 'Div'), (107, 114, 'OfferV'), (140, 14...\". Use `spacy.gold.biluo_tags_from_offsets(nlp.make_doc(text), entities)` to check the alignment. Misaligned entities ('-') will be ignored during training.\n",
      "  gold = GoldParse(doc, **gold)\n",
      "  1%|▏         | 4/300 [00:00<00:21, 13.83it/s]C:\\Users\\Vanshika Sharma\\Anaconda3\\lib\\site-packages\\spacy\\language.py:482: UserWarning: [W030] Some entities could not be aligned in the text \"Navin Fluorine International Ltd has informed BSE ...\" with entities \"[(170, 178, 'Div'), (226, 230, 'Percent'), (182, 1...\". Use `spacy.gold.biluo_tags_from_offsets(nlp.make_doc(text), entities)` to check the alignment. Misaligned entities ('-') will be ignored during training.\n",
      "  gold = GoldParse(doc, **gold)\n",
      "  3%|▎         | 8/300 [00:00<00:21, 13.53it/s]C:\\Users\\Vanshika Sharma\\Anaconda3\\lib\\site-packages\\spacy\\language.py:482: UserWarning: [W030] Some entities could not be aligned in the text \"Recommended a dividend of Re.0.60/- (i.e. 60%) per...\" with entities \"[(14, 22, 'Div'), (42, 45, 'Percent'), (26, 33, 'O...\". Use `spacy.gold.biluo_tags_from_offsets(nlp.make_doc(text), entities)` to check the alignment. Misaligned entities ('-') will be ignored during training.\n",
      "  gold = GoldParse(doc, **gold)\n",
      "  3%|▎         | 10/300 [00:00<00:20, 13.91it/s]C:\\Users\\Vanshika Sharma\\Anaconda3\\lib\\site-packages\\spacy\\language.py:482: UserWarning: [W030] Some entities could not be aligned in the text \"UTI Asset Management Company Ltd has informed BSE ...\" with entities \"[(171, 179, 'Div'), (183, 188, 'OfferV'), (229, 23...\". Use `spacy.gold.biluo_tags_from_offsets(nlp.make_doc(text), entities)` to check the alignment. Misaligned entities ('-') will be ignored during training.\n",
      "  gold = GoldParse(doc, **gold)\n",
      "  4%|▍         | 12/300 [00:00<00:19, 14.93it/s]C:\\Users\\Vanshika Sharma\\Anaconda3\\lib\\site-packages\\spacy\\language.py:482: UserWarning: [W030] Some entities could not be aligned in the text \"This is to inform you that Board of Directors of t...\" with entities \"[(206, 207, 'BonusReq'), (134, 135, 'BonusProv'), ...\". Use `spacy.gold.biluo_tags_from_offsets(nlp.make_doc(text), entities)` to check the alignment. Misaligned entities ('-') will be ignored during training.\n",
      "  gold = GoldParse(doc, **gold)\n",
      "  5%|▌         | 16/300 [00:01<00:20, 13.70it/s]C:\\Users\\Vanshika Sharma\\Anaconda3\\lib\\site-packages\\spacy\\language.py:482: UserWarning: [W030] Some entities could not be aligned in the text \"In continuation to our Letter No. VEDL/Sec./SE/20-...\" with entities \"[(488, 496, 'Div'), (310, 316, 'OfferV'), (362, 36...\". Use `spacy.gold.biluo_tags_from_offsets(nlp.make_doc(text), entities)` to check the alignment. Misaligned entities ('-') will be ignored during training.\n",
      "  gold = GoldParse(doc, **gold)\n",
      "  7%|▋         | 20/300 [00:01<00:20, 13.87it/s]C:\\Users\\Vanshika Sharma\\Anaconda3\\lib\\site-packages\\spacy\\language.py:482: UserWarning: [W030] Some entities could not be aligned in the text \"This is to inform you that the Board of Directors ...\" with entities \"[(206, 211, 'Ratio'), (121, 130, 'BonusDec')]\". Use `spacy.gold.biluo_tags_from_offsets(nlp.make_doc(text), entities)` to check the alignment. Misaligned entities ('-') will be ignored during training.\n",
      "  gold = GoldParse(doc, **gold)\n",
      "  7%|▋         | 21/300 [00:01<00:19, 14.14it/s]\n",
      "  1%|          | 2/300 [00:00<00:19, 15.01it/s]"
     ]
    },
    {
     "name": "stdout",
     "output_type": "stream",
     "text": [
      "{'ner': 110.2978538758804}\n"
     ]
    },
    {
     "name": "stderr",
     "output_type": "stream",
     "text": [
      "  2%|▏         | 5/300 [00:00<00:24, 12.21it/s]C:\\Users\\Vanshika Sharma\\Anaconda3\\lib\\site-packages\\spacy\\language.py:482: UserWarning: [W030] Some entities could not be aligned in the text \"Pursuant to Regulation 30 of SEBI (Listing Obligat...\" with entities \"[(145, 153, 'Div'), (193, 196, 'Percent'), (157, 1...\". Use `spacy.gold.biluo_tags_from_offsets(nlp.make_doc(text), entities)` to check the alignment. Misaligned entities ('-') will be ignored during training.\n",
      "  gold = GoldParse(doc, **gold)\n",
      "  3%|▎         | 9/300 [00:00<00:22, 13.04it/s]C:\\Users\\Vanshika Sharma\\Anaconda3\\lib\\site-packages\\spacy\\language.py:482: UserWarning: [W030] Some entities could not be aligned in the text \"Recommendation of final dividend subject to approv...\" with entities \"[(24, 32, 'Div'), (66, 69, 'Percent'), (75, 83, 'O...\". Use `spacy.gold.biluo_tags_from_offsets(nlp.make_doc(text), entities)` to check the alignment. Misaligned entities ('-') will be ignored during training.\n",
      "  gold = GoldParse(doc, **gold)\n",
      "  4%|▍         | 13/300 [00:00<00:20, 14.08it/s]C:\\Users\\Vanshika Sharma\\Anaconda3\\lib\\site-packages\\spacy\\language.py:482: UserWarning: [W030] Some entities could not be aligned in the text \"Petronet LNG Ltd has informed BSE that the Board o...\" with entities \"[(149, 157, 'Div'), (161, 166, 'OfferV'), (219, 22...\". Use `spacy.gold.biluo_tags_from_offsets(nlp.make_doc(text), entities)` to check the alignment. Misaligned entities ('-') will be ignored during training.\n",
      "  gold = GoldParse(doc, **gold)\n",
      "  7%|▋         | 21/300 [00:01<00:18, 15.48it/s]C:\\Users\\Vanshika Sharma\\Anaconda3\\lib\\site-packages\\spacy\\language.py:482: UserWarning: [W030] Some entities could not be aligned in the text \"The Board at its meeting held today has recommende...\" with entities \"[(128, 130, 'BonusReq'), (95, 97, 'BonusProv'), (4...\". Use `spacy.gold.biluo_tags_from_offsets(nlp.make_doc(text), entities)` to check the alignment. Misaligned entities ('-') will be ignored during training.\n",
      "  gold = GoldParse(doc, **gold)\n",
      " 11%|█         | 33/300 [00:02<00:17, 14.85it/s]C:\\Users\\Vanshika Sharma\\Anaconda3\\lib\\site-packages\\spacy\\language.py:482: UserWarning: [W030] Some entities could not be aligned in the text \"Kiri Industries Ltd has informed BSE that the Boar...\" with entities \"[(173, 175, 'Percent'), (160, 168, 'OfferV'), (197...\". Use `spacy.gold.biluo_tags_from_offsets(nlp.make_doc(text), entities)` to check the alignment. Misaligned entities ('-') will be ignored during training.\n",
      "  gold = GoldParse(doc, **gold)\n",
      " 12%|█▏        | 37/300 [00:02<00:18, 14.52it/s]C:\\Users\\Vanshika Sharma\\Anaconda3\\lib\\site-packages\\spacy\\language.py:482: UserWarning: [W030] Some entities could not be aligned in the text \"Supreme Petrochem Ltd has informed BSE that the Bo...\" with entities \"[(168, 175, 'OfferV'), (320, 326, 'FaceV'), (139, ...\". Use `spacy.gold.biluo_tags_from_offsets(nlp.make_doc(text), entities)` to check the alignment. Misaligned entities ('-') will be ignored during training.\n",
      "  gold = GoldParse(doc, **gold)\n",
      " 15%|█▍        | 44/300 [00:03<00:17, 14.27it/s]\n",
      "  0%|          | 0/300 [00:00<?, ?it/s]C:\\Users\\Vanshika Sharma\\Anaconda3\\lib\\site-packages\\spacy\\language.py:482: UserWarning: [W030] Some entities could not be aligned in the text \"Pursuant to Regulation 30 of SEBI (Listing Obligat...\" with entities \"[(260, 268, 'Div'), (272, 274, 'Percent'), (338, 3...\". Use `spacy.gold.biluo_tags_from_offsets(nlp.make_doc(text), entities)` to check the alignment. Misaligned entities ('-') will be ignored during training.\n",
      "  gold = GoldParse(doc, **gold)\n",
      "  1%|          | 2/300 [00:00<00:23, 12.87it/s]"
     ]
    },
    {
     "name": "stdout",
     "output_type": "stream",
     "text": [
      "{'ner': 222.54969501170098}\n"
     ]
    },
    {
     "name": "stderr",
     "output_type": "stream",
     "text": [
      "  1%|          | 3/300 [00:00<00:21, 13.56it/s]\n",
      "  0%|          | 0/300 [00:00<?, ?it/s]\n",
      "  1%|          | 2/300 [00:00<00:20, 14.35it/s]"
     ]
    },
    {
     "name": "stdout",
     "output_type": "stream",
     "text": [
      "{'ner': 13.792146088391117}\n",
      "{}\n"
     ]
    },
    {
     "name": "stderr",
     "output_type": "stream",
     "text": [
      "  1%|          | 3/300 [00:00<00:25, 11.44it/s]C:\\Users\\Vanshika Sharma\\Anaconda3\\lib\\site-packages\\spacy\\language.py:482: UserWarning: [W030] Some entities could not be aligned in the text \"Ecoplast Ltd has informed BSE that the Board of Di...\" with entities \"[(141, 149, 'Div'), (175, 178, 'Percent'), (153, 1...\". Use `spacy.gold.biluo_tags_from_offsets(nlp.make_doc(text), entities)` to check the alignment. Misaligned entities ('-') will be ignored during training.\n",
      "  gold = GoldParse(doc, **gold)\n",
      "  2%|▏         | 5/300 [00:00<00:25, 11.43it/s]C:\\Users\\Vanshika Sharma\\Anaconda3\\lib\\site-packages\\spacy\\language.py:482: UserWarning: [W030] Some entities could not be aligned in the text \"In continuation of our letter dated:29th June 2020...\" with entities \"[(323, 331, 'Div'), (191, 194, 'Percent'), (169, 1...\". Use `spacy.gold.biluo_tags_from_offsets(nlp.make_doc(text), entities)` to check the alignment. Misaligned entities ('-') will be ignored during training.\n",
      "  gold = GoldParse(doc, **gold)\n",
      "  6%|▌         | 17/300 [00:01<00:21, 13.39it/s]C:\\Users\\Vanshika Sharma\\Anaconda3\\lib\\site-packages\\spacy\\language.py:482: UserWarning: [W030] Some entities could not be aligned in the text \"Tech Mahindra declared Special dividend of Rs. 15/...\" with entities \"[(31, 39, 'Div'), (90, 94, 'Percent'), (43, 49, 'O...\". Use `spacy.gold.biluo_tags_from_offsets(nlp.make_doc(text), entities)` to check the alignment. Misaligned entities ('-') will be ignored during training.\n",
      "  gold = GoldParse(doc, **gold)\n",
      "  7%|▋         | 20/300 [00:01<00:22, 12.29it/s]\n",
      "  1%|          | 2/300 [00:00<00:21, 13.68it/s]"
     ]
    },
    {
     "name": "stdout",
     "output_type": "stream",
     "text": [
      "{'ner': 92.48975672786078}\n"
     ]
    },
    {
     "name": "stderr",
     "output_type": "stream",
     "text": [
      "  1%|▏         | 4/300 [00:00<00:23, 12.77it/s]C:\\Users\\Vanshika Sharma\\Anaconda3\\lib\\site-packages\\spacy\\language.py:482: UserWarning: [W030] Some entities could not be aligned in the text \"Further to our letter dated 22nd June, 2020, we wi...\" with entities \"[(185, 193, 'Div'), (197, 205, 'OfferV'), (247, 25...\". Use `spacy.gold.biluo_tags_from_offsets(nlp.make_doc(text), entities)` to check the alignment. Misaligned entities ('-') will be ignored during training.\n",
      "  gold = GoldParse(doc, **gold)\n",
      "  5%|▌         | 16/300 [00:01<00:21, 12.96it/s]C:\\Users\\Vanshika Sharma\\Anaconda3\\lib\\site-packages\\spacy\\language.py:482: UserWarning: [W030] Some entities could not be aligned in the text \"The Board of directors in their meeting held on to...\" with entities \"[(104, 107, 'Percent'), (113, 121, 'OfferV'), (142...\". Use `spacy.gold.biluo_tags_from_offsets(nlp.make_doc(text), entities)` to check the alignment. Misaligned entities ('-') will be ignored during training.\n",
      "  gold = GoldParse(doc, **gold)\n",
      " 11%|█▏        | 34/300 [00:02<00:19, 13.40it/s]C:\\Users\\Vanshika Sharma\\Anaconda3\\lib\\site-packages\\spacy\\language.py:482: UserWarning: [W030] Some entities could not be aligned in the text \"In continuation to our earlier intimation dated Oc...\" with entities \"[(295, 303, 'Div'), (696, 712, 'DivExDate'), (252,...\". Use `spacy.gold.biluo_tags_from_offsets(nlp.make_doc(text), entities)` to check the alignment. Misaligned entities ('-') will be ignored during training.\n",
      "  gold = GoldParse(doc, **gold)\n",
      " 12%|█▏        | 35/300 [00:02<00:21, 12.60it/s]\n",
      "  1%|          | 2/300 [00:00<00:19, 14.99it/s]C:\\Users\\Vanshika Sharma\\Anaconda3\\lib\\site-packages\\spacy\\language.py:482: UserWarning: [W030] Some entities could not be aligned in the text \"Corporate Announcement for Recommendation of Divid...\" with entities \"[(56, 63, 'OfferV'), (117, 122, 'FaceV'), (27, 41,...\". Use `spacy.gold.biluo_tags_from_offsets(nlp.make_doc(text), entities)` to check the alignment. Misaligned entities ('-') will be ignored during training.\n",
      "  gold = GoldParse(doc, **gold)\n"
     ]
    },
    {
     "name": "stdout",
     "output_type": "stream",
     "text": [
      "{'ner': 140.8620941598906}\n"
     ]
    },
    {
     "name": "stderr",
     "output_type": "stream",
     "text": [
      "  3%|▎         | 8/300 [00:00<00:20, 14.17it/s]C:\\Users\\Vanshika Sharma\\Anaconda3\\lib\\site-packages\\spacy\\language.py:482: UserWarning: [W030] Some entities could not be aligned in the text \"Amarjothi Spinning Mills Ltd has informed BSE that...\" with entities \"[(157, 165, 'Div'), (169, 172, 'Percent'), (178, 1...\". Use `spacy.gold.biluo_tags_from_offsets(nlp.make_doc(text), entities)` to check the alignment. Misaligned entities ('-') will be ignored during training.\n",
      "  gold = GoldParse(doc, **gold)\n",
      "  8%|▊         | 25/300 [00:01<00:20, 13.75it/s]\n",
      "  0%|          | 0/300 [00:00<?, ?it/s]C:\\Users\\Vanshika Sharma\\Anaconda3\\lib\\site-packages\\spacy\\language.py:482: UserWarning: [W030] Some entities could not be aligned in the text \"Recommendation of final Dividend of Rs.1.75/- per ...\" with entities \"[(36, 43, 'OfferV'), (80, 84, 'FaceV')]\". Use `spacy.gold.biluo_tags_from_offsets(nlp.make_doc(text), entities)` to check the alignment. Misaligned entities ('-') will be ignored during training.\n",
      "  gold = GoldParse(doc, **gold)\n",
      "  1%|          | 2/300 [00:00<00:20, 14.80it/s]"
     ]
    },
    {
     "name": "stdout",
     "output_type": "stream",
     "text": [
      "{'ner': 156.30044409058553}\n"
     ]
    },
    {
     "name": "stderr",
     "output_type": "stream",
     "text": [
      "  1%|▏         | 4/300 [00:00<00:21, 14.01it/s]\n",
      "  1%|          | 2/300 [00:00<00:18, 15.79it/s]"
     ]
    },
    {
     "name": "stdout",
     "output_type": "stream",
     "text": [
      "{'ner': 131.98133654905416}\n"
     ]
    },
    {
     "name": "stderr",
     "output_type": "stream",
     "text": [
      "  1%|▏         | 4/300 [00:00<00:20, 14.77it/s]C:\\Users\\Vanshika Sharma\\Anaconda3\\lib\\site-packages\\spacy\\language.py:482: UserWarning: [W030] Some entities could not be aligned in the text \"Pursuant to Regulation 30 and 33 of SEBI (Listing ...\" with entities \"[(401, 404, 'Percent'), (337, 344, 'OfferV'), (380...\". Use `spacy.gold.biluo_tags_from_offsets(nlp.make_doc(text), entities)` to check the alignment. Misaligned entities ('-') will be ignored during training.\n",
      "  gold = GoldParse(doc, **gold)\n",
      "  3%|▎         | 8/300 [00:00<00:21, 13.84it/s]C:\\Users\\Vanshika Sharma\\Anaconda3\\lib\\site-packages\\spacy\\language.py:482: UserWarning: [W030] Some entities could not be aligned in the text \"Shriram Transport Finance Company Ltd has informed...\" with entities \"[(175, 183, 'Div'), (187, 190, 'Percent'), (195, 2...\". Use `spacy.gold.biluo_tags_from_offsets(nlp.make_doc(text), entities)` to check the alignment. Misaligned entities ('-') will be ignored during training.\n",
      "  gold = GoldParse(doc, **gold)\n",
      "  3%|▎         | 10/300 [00:00<00:20, 14.47it/s]C:\\Users\\Vanshika Sharma\\Anaconda3\\lib\\site-packages\\spacy\\language.py:482: UserWarning: [W030] Some entities could not be aligned in the text \"Board recommended a dividend of 15% (i.e. Rs.1.50 ...\" with entities \"[(20, 28, 'Div'), (32, 35, 'Percent'), (42, 49, 'O...\". Use `spacy.gold.biluo_tags_from_offsets(nlp.make_doc(text), entities)` to check the alignment. Misaligned entities ('-') will be ignored during training.\n",
      "  gold = GoldParse(doc, **gold)\n",
      "  7%|▋         | 22/300 [00:01<00:20, 13.89it/s]C:\\Users\\Vanshika Sharma\\Anaconda3\\lib\\site-packages\\spacy\\language.py:482: UserWarning: [W030] Some entities could not be aligned in the text \"ICICI Securities Ltd has informed BSE that the Boa...\" with entities \"[(195, 203, 'Div'), (207, 212, 'OfferV'), (269, 27...\". Use `spacy.gold.biluo_tags_from_offsets(nlp.make_doc(text), entities)` to check the alignment. Misaligned entities ('-') will be ignored during training.\n",
      "  gold = GoldParse(doc, **gold)\n",
      "  8%|▊         | 24/300 [00:01<00:19, 13.87it/s]\n",
      "  0%|          | 1/300 [00:00<00:25, 11.79it/s]\n",
      "  0%|          | 0/300 [00:00<?, ?it/s]"
     ]
    },
    {
     "name": "stdout",
     "output_type": "stream",
     "text": [
      "{'ner': 301.3091120531806}\n",
      "{'ner': 6.932655032112962}\n"
     ]
    },
    {
     "name": "stderr",
     "output_type": "stream",
     "text": [
      "  1%|          | 2/300 [00:00<00:23, 12.48it/s]C:\\Users\\Vanshika Sharma\\Anaconda3\\lib\\site-packages\\spacy\\language.py:482: UserWarning: [W030] Some entities could not be aligned in the text \"In terms of Regulation 30 read with Part A of Sche...\" with entities \"[(521, 532, 'BonusDec')]\". Use `spacy.gold.biluo_tags_from_offsets(nlp.make_doc(text), entities)` to check the alignment. Misaligned entities ('-') will be ignored during training.\n",
      "  gold = GoldParse(doc, **gold)\n",
      "  1%|▏         | 4/300 [00:00<00:22, 13.45it/s]C:\\Users\\Vanshika Sharma\\Anaconda3\\lib\\site-packages\\spacy\\language.py:482: UserWarning: [W030] Some entities could not be aligned in the text \"With reference to our letter dated 25/04/18 inform...\" with entities \"[(499, 506, 'BonusReq'), (41, 42, 'BonusProv'), (4...\". Use `spacy.gold.biluo_tags_from_offsets(nlp.make_doc(text), entities)` to check the alignment. Misaligned entities ('-') will be ignored during training.\n",
      "  gold = GoldParse(doc, **gold)\n",
      "  2%|▏         | 6/300 [00:00<00:22, 13.04it/s]C:\\Users\\Vanshika Sharma\\Anaconda3\\lib\\site-packages\\spacy\\language.py:482: UserWarning: [W030] Some entities could not be aligned in the text \"Uni Abex Alloy Products Ltd has informed BSE that ...\" with entities \"[(157, 165, 'Div'), (232, 235, 'Percent'), (169, 1...\". Use `spacy.gold.biluo_tags_from_offsets(nlp.make_doc(text), entities)` to check the alignment. Misaligned entities ('-') will be ignored during training.\n",
      "  gold = GoldParse(doc, **gold)\n",
      "  3%|▎         | 8/300 [00:00<00:20, 14.08it/s]C:\\Users\\Vanshika Sharma\\Anaconda3\\lib\\site-packages\\spacy\\language.py:482: UserWarning: [W030] Some entities could not be aligned in the text \"Krishna Ventures Limitedhas informed BSE that the ...\" with entities \"[(115, 125, 'SDate'), (102, 114, 'Int'), (49, 83, ...\". Use `spacy.gold.biluo_tags_from_offsets(nlp.make_doc(text), entities)` to check the alignment. Misaligned entities ('-') will be ignored during training.\n",
      "  gold = GoldParse(doc, **gold)\n",
      "  7%|▋         | 22/300 [00:01<00:20, 13.76it/s]C:\\Users\\Vanshika Sharma\\Anaconda3\\lib\\site-packages\\spacy\\language.py:482: UserWarning: [W030] Some entities could not be aligned in the text \"Outcome of the Board Meeting held on 20th October,...\" with entities \"[(89, 97, 'Div'), (101, 110, 'OfferV'), (145, 150,...\". Use `spacy.gold.biluo_tags_from_offsets(nlp.make_doc(text), entities)` to check the alignment. Misaligned entities ('-') will be ignored during training.\n",
      "  gold = GoldParse(doc, **gold)\n",
      "  8%|▊         | 24/300 [00:01<00:20, 13.50it/s]C:\\Users\\Vanshika Sharma\\Anaconda3\\lib\\site-packages\\spacy\\language.py:482: UserWarning: [W030] Some entities could not be aligned in the text \"MindTree Ltd has informed BSE that the Board of Di...\" with entities \"[(151, 159, 'Div'), (163, 171, 'OfferV'), (207, 21...\". Use `spacy.gold.biluo_tags_from_offsets(nlp.make_doc(text), entities)` to check the alignment. Misaligned entities ('-') will be ignored during training.\n",
      "  gold = GoldParse(doc, **gold)\n",
      " 10%|█         | 30/300 [00:02<00:19, 13.73it/s]\n",
      "  1%|          | 2/300 [00:00<00:21, 13.62it/s]"
     ]
    },
    {
     "name": "stdout",
     "output_type": "stream",
     "text": [
      "{'ner': 437.95410744788745}\n"
     ]
    },
    {
     "name": "stderr",
     "output_type": "stream",
     "text": [
      "  4%|▍         | 13/300 [00:00<00:18, 15.79it/s]\n",
      "  0%|          | 1/300 [00:00<00:33,  8.99it/s]"
     ]
    },
    {
     "name": "stdout",
     "output_type": "stream",
     "text": [
      "{'ner': 99.56795012117759}\n"
     ]
    },
    {
     "name": "stderr",
     "output_type": "stream",
     "text": [
      "  2%|▏         | 5/300 [00:00<00:25, 11.43it/s]C:\\Users\\Vanshika Sharma\\Anaconda3\\lib\\site-packages\\spacy\\language.py:482: UserWarning: [W030] Some entities could not be aligned in the text \"The Board of Directors at the said Meeting has dec...\" with entities \"[(67, 75, 'Div'), (79, 84, 'OfferV'), (113, 119, '...\". Use `spacy.gold.biluo_tags_from_offsets(nlp.make_doc(text), entities)` to check the alignment. Misaligned entities ('-') will be ignored during training.\n",
      "  gold = GoldParse(doc, **gold)\n",
      "  5%|▌         | 16/300 [00:01<00:20, 13.86it/s]\n",
      "  1%|          | 2/300 [00:00<00:19, 15.17it/s]"
     ]
    },
    {
     "name": "stdout",
     "output_type": "stream",
     "text": [
      "{'ner': 115.40457832409082}\n"
     ]
    },
    {
     "name": "stderr",
     "output_type": "stream",
     "text": [
      "  8%|▊         | 24/300 [00:01<00:18, 14.70it/s]\n",
      "  1%|          | 2/300 [00:00<00:24, 12.07it/s]"
     ]
    },
    {
     "name": "stdout",
     "output_type": "stream",
     "text": [
      "{'ner': 135.37662722726827}\n"
     ]
    },
    {
     "name": "stderr",
     "output_type": "stream",
     "text": [
      "  2%|▏         | 6/300 [00:00<00:22, 13.30it/s]C:\\Users\\Vanshika Sharma\\Anaconda3\\lib\\site-packages\\spacy\\language.py:482: UserWarning: [W030] Some entities could not be aligned in the text \"Pursuant to Regulations 30 and 33 of SEBI (Listing...\" with entities \"[(431, 439, 'Div'), (443, 448, 'OfferV'), (492, 49...\". Use `spacy.gold.biluo_tags_from_offsets(nlp.make_doc(text), entities)` to check the alignment. Misaligned entities ('-') will be ignored during training.\n",
      "  gold = GoldParse(doc, **gold)\n",
      "  5%|▍         | 14/300 [00:00<00:20, 14.23it/s]\n",
      "  1%|          | 2/300 [00:00<00:24, 12.08it/s]"
     ]
    },
    {
     "name": "stdout",
     "output_type": "stream",
     "text": [
      "{'ner': 99.54021357340883}\n"
     ]
    },
    {
     "name": "stderr",
     "output_type": "stream",
     "text": [
      "  2%|▏         | 6/300 [00:00<00:20, 14.24it/s]C:\\Users\\Vanshika Sharma\\Anaconda3\\lib\\site-packages\\spacy\\language.py:482: UserWarning: [W030] Some entities could not be aligned in the text \"Parag Milk Foods Ltd has informed BSE that the Boa...\" with entities \"[(155, 163, 'Div'), (222, 224, 'Percent'), (167, 1...\". Use `spacy.gold.biluo_tags_from_offsets(nlp.make_doc(text), entities)` to check the alignment. Misaligned entities ('-') will be ignored during training.\n",
      "  gold = GoldParse(doc, **gold)\n",
      "  4%|▍         | 12/300 [00:00<00:20, 14.19it/s]C:\\Users\\Vanshika Sharma\\Anaconda3\\lib\\site-packages\\spacy\\language.py:482: UserWarning: [W030] Some entities could not be aligned in the text \"Recommendation for issue of Bonus Shares in the ra...\" with entities \"[(73, 84, 'BonusDec')]\". Use `spacy.gold.biluo_tags_from_offsets(nlp.make_doc(text), entities)` to check the alignment. Misaligned entities ('-') will be ignored during training.\n",
      "  gold = GoldParse(doc, **gold)\n",
      " 13%|█▎        | 40/300 [00:02<00:17, 15.19it/s]\n",
      "  1%|          | 2/300 [00:00<00:24, 12.25it/s]"
     ]
    },
    {
     "name": "stdout",
     "output_type": "stream",
     "text": [
      "{'ner': 216.25744278530843}\n"
     ]
    },
    {
     "name": "stderr",
     "output_type": "stream",
     "text": [
      "  4%|▎         | 11/300 [00:00<00:21, 13.57it/s]C:\\Users\\Vanshika Sharma\\Anaconda3\\lib\\site-packages\\spacy\\language.py:482: UserWarning: [W030] Some entities could not be aligned in the text \"Nestle India-Further to our letter BM:PKR:42:20 da...\" with entities \"[(346, 354, 'Div'), (759, 777, 'DivExDate'), (85, ...\". Use `spacy.gold.biluo_tags_from_offsets(nlp.make_doc(text), entities)` to check the alignment. Misaligned entities ('-') will be ignored during training.\n",
      "  gold = GoldParse(doc, **gold)\n",
      "  9%|▉         | 27/300 [00:01<00:19, 14.03it/s]C:\\Users\\Vanshika Sharma\\Anaconda3\\lib\\site-packages\\spacy\\language.py:482: UserWarning: [W030] Some entities could not be aligned in the text \"Pursuant to Regulations 30 &amp; 33 read with Sche...\" with entities \"[(315, 318, 'Percent'), (342, 350, 'OfferV'), (371...\". Use `spacy.gold.biluo_tags_from_offsets(nlp.make_doc(text), entities)` to check the alignment. Misaligned entities ('-') will be ignored during training.\n",
      "  gold = GoldParse(doc, **gold)\n",
      " 12%|█▏        | 35/300 [00:02<00:18, 14.57it/s]C:\\Users\\Vanshika Sharma\\Anaconda3\\lib\\site-packages\\spacy\\language.py:482: UserWarning: [W030] Some entities could not be aligned in the text \"Varun Beverages Ltd has informed BSE that at the s...\" with entities \"[(231, 232, 'BonusReq'), (227, 228, 'BonusProv'), ...\". Use `spacy.gold.biluo_tags_from_offsets(nlp.make_doc(text), entities)` to check the alignment. Misaligned entities ('-') will be ignored during training.\n",
      "  gold = GoldParse(doc, **gold)\n",
      " 12%|█▏        | 37/300 [00:02<00:19, 13.61it/s]C:\\Users\\Vanshika Sharma\\Anaconda3\\lib\\site-packages\\spacy\\language.py:482: UserWarning: [W030] Some entities could not be aligned in the text \"Kopran Ltd has informed BSE that the Board of Dire...\" with entities \"[(145, 153, 'Div'), (157, 165, 'OfferV'), (202, 20...\". Use `spacy.gold.biluo_tags_from_offsets(nlp.make_doc(text), entities)` to check the alignment. Misaligned entities ('-') will be ignored during training.\n",
      "  gold = GoldParse(doc, **gold)\n",
      " 22%|██▏       | 65/300 [00:04<00:17, 13.11it/s]C:\\Users\\Vanshika Sharma\\Anaconda3\\lib\\site-packages\\spacy\\language.py:482: UserWarning: [W030] Some entities could not be aligned in the text \"Elnet Technologies Ltd has informed BSE that the B...\" with entities \"[(151, 159, 'Div'), (179, 182, 'Percent'), (189, 1...\". Use `spacy.gold.biluo_tags_from_offsets(nlp.make_doc(text), entities)` to check the alignment. Misaligned entities ('-') will be ignored during training.\n",
      "  gold = GoldParse(doc, **gold)\n",
      " 23%|██▎       | 69/300 [00:04<00:16, 14.11it/s]C:\\Users\\Vanshika Sharma\\Anaconda3\\lib\\site-packages\\spacy\\language.py:482: UserWarning: [W030] Some entities could not be aligned in the text \"Infosys Ltd has informed BSE that the Board of Dir...\" with entities \"[(149, 157, 'Div'), (161, 167, 'OfferV'), (95, 111...\". Use `spacy.gold.biluo_tags_from_offsets(nlp.make_doc(text), entities)` to check the alignment. Misaligned entities ('-') will be ignored during training.\n",
      "  gold = GoldParse(doc, **gold)\n",
      " 30%|███       | 91/300 [00:06<00:14, 14.41it/s]\n",
      "  1%|          | 2/300 [00:00<00:19, 15.45it/s]"
     ]
    },
    {
     "name": "stdout",
     "output_type": "stream",
     "text": [
      "{'ner': 762.8107225349428}\n"
     ]
    },
    {
     "name": "stderr",
     "output_type": "stream",
     "text": [
      "  4%|▎         | 11/300 [00:00<00:18, 15.37it/s]\n",
      "  1%|          | 2/300 [00:00<00:19, 15.18it/s]"
     ]
    },
    {
     "name": "stdout",
     "output_type": "stream",
     "text": [
      "{'ner': 45.81857069577885}\n"
     ]
    },
    {
     "name": "stderr",
     "output_type": "stream",
     "text": [
      "  9%|▉         | 27/300 [00:01<00:18, 14.46it/s]\n",
      "  1%|          | 3/300 [00:00<00:19, 15.23it/s]"
     ]
    },
    {
     "name": "stdout",
     "output_type": "stream",
     "text": [
      "{'ner': 187.08931114414656}\n"
     ]
    },
    {
     "name": "stderr",
     "output_type": "stream",
     "text": [
      "\n",
      "  1%|          | 2/300 [00:00<00:17, 17.15it/s]\n",
      "  1%|          | 2/300 [00:00<00:23, 12.45it/s]"
     ]
    },
    {
     "name": "stdout",
     "output_type": "stream",
     "text": [
      "{'ner': 9.623247069138117}\n",
      "{'ner': 5.9660571940414675}\n"
     ]
    },
    {
     "name": "stderr",
     "output_type": "stream",
     "text": [
      "C:\\Users\\Vanshika Sharma\\Anaconda3\\lib\\site-packages\\spacy\\language.py:482: UserWarning: [W030] Some entities could not be aligned in the text \"As informed to you earlier vide our letter dated 1...\" with entities \"[(379, 387, 'Div'), (454, 456, 'Percent'), (391, 3...\". Use `spacy.gold.biluo_tags_from_offsets(nlp.make_doc(text), entities)` to check the alignment. Misaligned entities ('-') will be ignored during training.\n",
      "  gold = GoldParse(doc, **gold)\n",
      "  7%|▋         | 22/300 [00:01<00:19, 14.23it/s]C:\\Users\\Vanshika Sharma\\Anaconda3\\lib\\site-packages\\spacy\\language.py:482: UserWarning: [W030] Some entities could not be aligned in the text \"Mazda Ltd has informed BSE that the Board of Direc...\" with entities \"[(138, 146, 'Div'), (150, 158, 'OfferV'), (193, 19...\". Use `spacy.gold.biluo_tags_from_offsets(nlp.make_doc(text), entities)` to check the alignment. Misaligned entities ('-') will be ignored during training.\n",
      "  gold = GoldParse(doc, **gold)\n",
      " 11%|█         | 33/300 [00:02<00:18, 14.71it/s]\n",
      "  1%|          | 2/300 [00:00<00:21, 13.60it/s]"
     ]
    },
    {
     "name": "stdout",
     "output_type": "stream",
     "text": [
      "{'ner': 137.6896155948741}\n"
     ]
    },
    {
     "name": "stderr",
     "output_type": "stream",
     "text": [
      "  3%|▎         | 8/300 [00:00<00:19, 14.77it/s]C:\\Users\\Vanshika Sharma\\Anaconda3\\lib\\site-packages\\spacy\\language.py:482: UserWarning: [W030] Some entities could not be aligned in the text \"V R Films &amp; Studios Ltd has informed BSE that ...\" with entities \"[(187, 190, 'Percent'), (170, 178, 'OfferV'), (224...\". Use `spacy.gold.biluo_tags_from_offsets(nlp.make_doc(text), entities)` to check the alignment. Misaligned entities ('-') will be ignored during training.\n",
      "  gold = GoldParse(doc, **gold)\n",
      " 16%|█▌        | 48/300 [00:03<00:17, 14.36it/s]\n",
      "  1%|          | 2/300 [00:00<00:18, 15.80it/s]"
     ]
    },
    {
     "name": "stdout",
     "output_type": "stream",
     "text": [
      "{'ner': 270.35414545209983}\n"
     ]
    },
    {
     "name": "stderr",
     "output_type": "stream",
     "text": [
      "  4%|▍         | 12/300 [00:00<00:21, 13.66it/s]\n",
      "  1%|          | 2/300 [00:00<00:23, 12.93it/s]"
     ]
    },
    {
     "name": "stdout",
     "output_type": "stream",
     "text": [
      "{'ner': 63.89605446433404}\n"
     ]
    },
    {
     "name": "stderr",
     "output_type": "stream",
     "text": [
      "  5%|▌         | 16/300 [00:01<00:18, 15.44it/s]C:\\Users\\Vanshika Sharma\\Anaconda3\\lib\\site-packages\\spacy\\language.py:482: UserWarning: [W030] Some entities could not be aligned in the text \"Bigbloc Construction Ltd has informed BSE that the...\" with entities \"[(157, 165, 'Div'), (169, 174, 'Percent'), (181, 1...\". Use `spacy.gold.biluo_tags_from_offsets(nlp.make_doc(text), entities)` to check the alignment. Misaligned entities ('-') will be ignored during training.\n",
      "  gold = GoldParse(doc, **gold)\n",
      " 12%|█▏        | 35/300 [00:02<00:18, 14.63it/s]\n",
      "  1%|          | 2/300 [00:00<00:15, 19.75it/s]"
     ]
    },
    {
     "name": "stdout",
     "output_type": "stream",
     "text": [
      "{'ner': 149.02208213978705}\n"
     ]
    },
    {
     "name": "stderr",
     "output_type": "stream",
     "text": [
      "  3%|▎         | 10/300 [00:00<00:19, 14.72it/s]\n",
      "  1%|          | 2/300 [00:00<00:20, 14.69it/s]"
     ]
    },
    {
     "name": "stdout",
     "output_type": "stream",
     "text": [
      "{'ner': 33.28426048046905}\n"
     ]
    },
    {
     "name": "stderr",
     "output_type": "stream",
     "text": [
      "  1%|▏         | 4/300 [00:00<00:25, 11.84it/s]\n",
      "  1%|          | 2/300 [00:00<00:19, 15.37it/s]"
     ]
    },
    {
     "name": "stdout",
     "output_type": "stream",
     "text": [
      "{'ner': 53.947477680032804}\n"
     ]
    },
    {
     "name": "stderr",
     "output_type": "stream",
     "text": [
      "  4%|▍         | 13/300 [00:00<00:17, 16.24it/s]\n",
      "  0%|          | 0/300 [00:00<?, ?it/s]\n",
      "  1%|          | 2/300 [00:00<00:23, 12.43it/s]"
     ]
    },
    {
     "name": "stdout",
     "output_type": "stream",
     "text": [
      "{'ner': 50.87890301559068}\n",
      "{}\n"
     ]
    },
    {
     "name": "stderr",
     "output_type": "stream",
     "text": [
      " 20%|█▉        | 59/300 [00:04<00:16, 14.28it/s]\n",
      "  1%|          | 2/300 [00:00<00:19, 14.96it/s]"
     ]
    },
    {
     "name": "stdout",
     "output_type": "stream",
     "text": [
      "{'ner': 262.1729116448219}\n"
     ]
    },
    {
     "name": "stderr",
     "output_type": "stream",
     "text": [
      "  3%|▎         | 10/300 [00:00<00:20, 13.98it/s]\n",
      "  0%|          | 1/300 [00:00<00:33,  8.87it/s]"
     ]
    },
    {
     "name": "stdout",
     "output_type": "stream",
     "text": [
      "{'ner': 34.83231701615687}\n"
     ]
    },
    {
     "name": "stderr",
     "output_type": "stream",
     "text": [
      "  1%|▏         | 4/300 [00:00<00:24, 12.02it/s]\n",
      "  0%|          | 1/300 [00:00<00:33,  9.04it/s]"
     ]
    },
    {
     "name": "stdout",
     "output_type": "stream",
     "text": [
      "{'ner': 10.395462860245942}\n"
     ]
    },
    {
     "name": "stderr",
     "output_type": "stream",
     "text": [
      " 11%|█▏        | 34/300 [00:02<00:17, 14.79it/s]\n",
      "  1%|          | 2/300 [00:00<00:15, 19.78it/s]"
     ]
    },
    {
     "name": "stdout",
     "output_type": "stream",
     "text": [
      "{'ner': 141.0725912387887}\n"
     ]
    },
    {
     "name": "stderr",
     "output_type": "stream",
     "text": [
      "  3%|▎         | 8/300 [00:00<00:19, 14.82it/s]C:\\Users\\Vanshika Sharma\\Anaconda3\\lib\\site-packages\\spacy\\language.py:482: UserWarning: [W030] Some entities could not be aligned in the text \"Panasonic Energy India Company Ltd has informed BS...\" with entities \"[(174, 177, 'Percent'), (179, 186, 'OfferV'), (241...\". Use `spacy.gold.biluo_tags_from_offsets(nlp.make_doc(text), entities)` to check the alignment. Misaligned entities ('-') will be ignored during training.\n",
      "  gold = GoldParse(doc, **gold)\n",
      "  4%|▍         | 13/300 [00:00<00:20, 13.93it/s]\n",
      "  1%|          | 2/300 [00:00<00:22, 13.46it/s]"
     ]
    },
    {
     "name": "stdout",
     "output_type": "stream",
     "text": [
      "{'ner': 61.01532532846931}\n"
     ]
    },
    {
     "name": "stderr",
     "output_type": "stream",
     "text": [
      " 13%|█▎        | 38/300 [00:02<00:17, 15.29it/s]\n",
      "  0%|          | 0/300 [00:00<?, ?it/s]C:\\Users\\Vanshika Sharma\\Anaconda3\\lib\\site-packages\\spacy\\language.py:482: UserWarning: [W030] Some entities could not be aligned in the text \"Recommended a dividend of Rs.1/- per Equity share ...\" with entities \"[(14, 22, 'Div'), (68, 71, 'Percent'), (26, 30, 'O...\". Use `spacy.gold.biluo_tags_from_offsets(nlp.make_doc(text), entities)` to check the alignment. Misaligned entities ('-') will be ignored during training.\n",
      "  gold = GoldParse(doc, **gold)\n",
      "  1%|          | 2/300 [00:00<00:18, 16.04it/s]"
     ]
    },
    {
     "name": "stdout",
     "output_type": "stream",
     "text": [
      "{'ner': 164.21775605695635}\n"
     ]
    },
    {
     "name": "stderr",
     "output_type": "stream",
     "text": [
      "  8%|▊         | 24/300 [00:01<00:18, 15.17it/s]C:\\Users\\Vanshika Sharma\\Anaconda3\\lib\\site-packages\\spacy\\language.py:482: UserWarning: [W030] Some entities could not be aligned in the text \"Recommended to the shareholders of the Company fin...\" with entities \"[(53, 61, 'Div'), (65, 69, 'OfferV'), (75, 78, 'Fa...\". Use `spacy.gold.biluo_tags_from_offsets(nlp.make_doc(text), entities)` to check the alignment. Misaligned entities ('-') will be ignored during training.\n",
      "  gold = GoldParse(doc, **gold)\n",
      " 18%|█▊        | 55/300 [00:03<00:16, 14.81it/s]\n",
      "  1%|          | 2/300 [00:00<00:18, 16.09it/s]"
     ]
    },
    {
     "name": "stdout",
     "output_type": "stream",
     "text": [
      "{'ner': 239.48181831681833}\n"
     ]
    },
    {
     "name": "stderr",
     "output_type": "stream",
     "text": [
      " 24%|██▍       | 72/300 [00:04<00:15, 14.66it/s]\n",
      "  1%|          | 2/300 [00:00<00:20, 14.66it/s]"
     ]
    },
    {
     "name": "stdout",
     "output_type": "stream",
     "text": [
      "{'ner': 311.4444881692498}\n"
     ]
    },
    {
     "name": "stderr",
     "output_type": "stream",
     "text": [
      "  1%|          | 3/300 [00:00<00:23, 12.55it/s]C:\\Users\\Vanshika Sharma\\Anaconda3\\lib\\site-packages\\spacy\\language.py:482: UserWarning: [W030] Some entities could not be aligned in the text \"The Board of Directors of the Company in their mee...\" with entities \"[(131, 139, 'Div'), (156, 159, 'Percent'), (143, 1...\". Use `spacy.gold.biluo_tags_from_offsets(nlp.make_doc(text), entities)` to check the alignment. Misaligned entities ('-') will be ignored during training.\n",
      "  gold = GoldParse(doc, **gold)\n",
      "  6%|▋         | 19/300 [00:01<00:21, 13.33it/s]\n",
      "  1%|          | 2/300 [00:00<00:19, 15.40it/s]"
     ]
    },
    {
     "name": "stdout",
     "output_type": "stream",
     "text": [
      "{'ner': 128.5284902102716}\n"
     ]
    },
    {
     "name": "stderr",
     "output_type": "stream",
     "text": [
      "  2%|▏         | 6/300 [00:00<00:22, 13.02it/s]\n",
      "  1%|          | 2/300 [00:00<00:20, 14.68it/s]"
     ]
    },
    {
     "name": "stdout",
     "output_type": "stream",
     "text": [
      "{'ner': 3.1817312188847473}\n"
     ]
    },
    {
     "name": "stderr",
     "output_type": "stream",
     "text": [
      "  6%|▋         | 19/300 [00:01<00:20, 13.76it/s]\n",
      "  1%|          | 2/300 [00:00<00:22, 13.24it/s]"
     ]
    },
    {
     "name": "stdout",
     "output_type": "stream",
     "text": [
      "{'ner': 152.31307876153542}\n"
     ]
    },
    {
     "name": "stderr",
     "output_type": "stream",
     "text": [
      "  4%|▍         | 13/300 [00:00<00:19, 14.37it/s]\n",
      "  1%|          | 2/300 [00:00<00:23, 12.52it/s]"
     ]
    },
    {
     "name": "stdout",
     "output_type": "stream",
     "text": [
      "{'ner': 49.725340784669285}\n"
     ]
    },
    {
     "name": "stderr",
     "output_type": "stream",
     "text": [
      " 10%|█         | 31/300 [00:02<00:17, 15.69it/s]C:\\Users\\Vanshika Sharma\\Anaconda3\\lib\\site-packages\\spacy\\language.py:482: UserWarning: [W030] Some entities could not be aligned in the text \"Pursuant to Regulation 30 of the SEBI (Listing Obl...\" with entities \"[(103, 104, 'BonusReq'), (101, 102, 'BonusProv'), ...\". Use `spacy.gold.biluo_tags_from_offsets(nlp.make_doc(text), entities)` to check the alignment. Misaligned entities ('-') will be ignored during training.\n",
      "  gold = GoldParse(doc, **gold)\n",
      " 13%|█▎        | 38/300 [00:02<00:19, 13.26it/s]\n",
      "  1%|          | 2/300 [00:00<00:26, 11.14it/s]"
     ]
    },
    {
     "name": "stdout",
     "output_type": "stream",
     "text": [
      "{'ner': 355.7866893321188}\n"
     ]
    },
    {
     "name": "stderr",
     "output_type": "stream",
     "text": [
      "C:\\Users\\Vanshika Sharma\\Anaconda3\\lib\\site-packages\\spacy\\language.py:482: UserWarning: [W030] Some entities could not be aligned in the text \"Castrol India Ltd has informed BSE that the Board ...\" with entities \"[(206, 214, 'Div'), (218, 226, 'OfferV'), (247, 25...\". Use `spacy.gold.biluo_tags_from_offsets(nlp.make_doc(text), entities)` to check the alignment. Misaligned entities ('-') will be ignored during training.\n",
      "  gold = GoldParse(doc, **gold)\n",
      "  7%|▋         | 22/300 [00:01<00:19, 14.18it/s]\n",
      "  1%|          | 2/300 [00:00<00:24, 12.38it/s]"
     ]
    },
    {
     "name": "stdout",
     "output_type": "stream",
     "text": [
      "{'ner': 155.11806462526314}\n"
     ]
    },
    {
     "name": "stderr",
     "output_type": "stream",
     "text": [
      "  1%|▏         | 4/300 [00:00<00:22, 13.18it/s]\n",
      "  1%|          | 2/300 [00:00<00:16, 18.14it/s]"
     ]
    },
    {
     "name": "stdout",
     "output_type": "stream",
     "text": [
      "{'ner': 22.10650945184433}\n"
     ]
    },
    {
     "name": "stderr",
     "output_type": "stream",
     "text": [
      "  7%|▋         | 21/300 [00:01<00:18, 14.90it/s]\n",
      "  0%|          | 0/300 [00:00<?, ?it/s]\n",
      "  1%|          | 2/300 [00:00<00:16, 17.63it/s]"
     ]
    },
    {
     "name": "stdout",
     "output_type": "stream",
     "text": [
      "{'ner': 137.51541574173834}\n",
      "{}\n"
     ]
    },
    {
     "name": "stderr",
     "output_type": "stream",
     "text": [
      "  8%|▊         | 24/300 [00:01<00:18, 14.70it/s]\n",
      "  1%|          | 2/300 [00:00<00:17, 17.41it/s]"
     ]
    },
    {
     "name": "stdout",
     "output_type": "stream",
     "text": [
      "{'ner': 77.33303929336263}\n"
     ]
    },
    {
     "name": "stderr",
     "output_type": "stream",
     "text": [
      "  6%|▋         | 19/300 [00:01<00:19, 14.20it/s]\n",
      "  1%|          | 2/300 [00:00<00:19, 15.54it/s]"
     ]
    },
    {
     "name": "stdout",
     "output_type": "stream",
     "text": [
      "{'ner': 138.18782321006358}\n"
     ]
    },
    {
     "name": "stderr",
     "output_type": "stream",
     "text": [
      "  6%|▌         | 17/300 [00:01<00:18, 15.53it/s]\n",
      "  1%|          | 2/300 [00:00<00:19, 15.24it/s]"
     ]
    },
    {
     "name": "stdout",
     "output_type": "stream",
     "text": [
      "{'ner': 27.385408400373436}\n"
     ]
    },
    {
     "name": "stderr",
     "output_type": "stream",
     "text": [
      "  2%|▏         | 5/300 [00:00<00:18, 16.20it/s]\n",
      "  1%|          | 2/300 [00:00<00:24, 11.92it/s]"
     ]
    },
    {
     "name": "stdout",
     "output_type": "stream",
     "text": [
      "{'ner': 16.026326401426623}\n"
     ]
    },
    {
     "name": "stderr",
     "output_type": "stream",
     "text": [
      "  2%|▏         | 6/300 [00:00<00:23, 12.49it/s]C:\\Users\\Vanshika Sharma\\Anaconda3\\lib\\site-packages\\spacy\\language.py:482: UserWarning: [W030] Some entities could not be aligned in the text \"Nestle India - The Board of Directors at their mee...\" with entities \"[(83, 91, 'Div'), (95, 102, 'OfferV'), (163, 169, ...\". Use `spacy.gold.biluo_tags_from_offsets(nlp.make_doc(text), entities)` to check the alignment. Misaligned entities ('-') will be ignored during training.\n",
      "  gold = GoldParse(doc, **gold)\n",
      " 12%|█▏        | 35/300 [00:02<00:18, 14.46it/s]\n",
      "  1%|          | 2/300 [00:00<00:19, 15.01it/s]"
     ]
    },
    {
     "name": "stdout",
     "output_type": "stream",
     "text": [
      "{'ner': 172.26056180155587}\n"
     ]
    },
    {
     "name": "stderr",
     "output_type": "stream",
     "text": [
      "  5%|▌         | 16/300 [00:01<00:20, 13.86it/s]\n",
      "  0%|          | 0/300 [00:00<?, ?it/s]\n",
      "  1%|          | 2/300 [00:00<00:19, 15.42it/s]"
     ]
    },
    {
     "name": "stdout",
     "output_type": "stream",
     "text": [
      "{'ner': 181.8544292216065}\n",
      "{}\n"
     ]
    },
    {
     "name": "stderr",
     "output_type": "stream",
     "text": [
      "  3%|▎         | 8/300 [00:00<00:20, 14.01it/s]\n",
      "  0%|          | 0/300 [00:00<?, ?it/s]C:\\Users\\Vanshika Sharma\\Anaconda3\\lib\\site-packages\\spacy\\language.py:482: UserWarning: [W030] Some entities could not be aligned in the text \"Declaration of Interim dividend of Rs. 1.50/- (Rup...\" with entities \"[(23, 31, 'Div'), (35, 43, 'OfferV'), (201, 219, '...\". Use `spacy.gold.biluo_tags_from_offsets(nlp.make_doc(text), entities)` to check the alignment. Misaligned entities ('-') will be ignored during training.\n",
      "  gold = GoldParse(doc, **gold)\n",
      "  1%|          | 2/300 [00:00<00:20, 14.42it/s]"
     ]
    },
    {
     "name": "stdout",
     "output_type": "stream",
     "text": [
      "{'ner': 8.564969359011974}\n"
     ]
    },
    {
     "name": "stderr",
     "output_type": "stream",
     "text": [
      " 20%|██        | 61/300 [00:04<00:16, 14.39it/s]\n",
      "  1%|          | 2/300 [00:00<00:24, 12.15it/s]"
     ]
    },
    {
     "name": "stdout",
     "output_type": "stream",
     "text": [
      "{'ner': 180.714077290873}\n"
     ]
    },
    {
     "name": "stderr",
     "output_type": "stream",
     "text": [
      "  9%|▉         | 28/300 [00:02<00:19, 13.90it/s]\n",
      "  1%|          | 2/300 [00:00<00:19, 14.98it/s]"
     ]
    },
    {
     "name": "stdout",
     "output_type": "stream",
     "text": [
      "{'ner': 109.9464033864501}\n"
     ]
    },
    {
     "name": "stderr",
     "output_type": "stream",
     "text": [
      "  2%|▏         | 7/300 [00:00<00:20, 13.97it/s]\n",
      "  1%|          | 2/300 [00:00<00:21, 13.66it/s]"
     ]
    },
    {
     "name": "stdout",
     "output_type": "stream",
     "text": [
      "{'ner': 14.96956118888146}\n"
     ]
    },
    {
     "name": "stderr",
     "output_type": "stream",
     "text": [
      "  6%|▌         | 18/300 [00:01<00:20, 14.08it/s]C:\\Users\\Vanshika Sharma\\Anaconda3\\lib\\site-packages\\spacy\\language.py:482: UserWarning: [W030] Some entities could not be aligned in the text \"Declaration of Interim Dividend for the Financial ...\" with entities \"[(23, 31, 'Div'), (301, 304, 'Percent'), (311, 316...\". Use `spacy.gold.biluo_tags_from_offsets(nlp.make_doc(text), entities)` to check the alignment. Misaligned entities ('-') will be ignored during training.\n",
      "  gold = GoldParse(doc, **gold)\n",
      " 19%|█▉        | 57/300 [00:04<00:17, 13.79it/s]\n",
      "  1%|          | 2/300 [00:00<00:19, 15.51it/s]"
     ]
    },
    {
     "name": "stdout",
     "output_type": "stream",
     "text": [
      "{'ner': 201.27206963053953}\n"
     ]
    },
    {
     "name": "stderr",
     "output_type": "stream",
     "text": [
      " 12%|█▏        | 36/300 [00:02<00:19, 13.42it/s]\n",
      "  1%|          | 2/300 [00:00<00:26, 11.39it/s]"
     ]
    },
    {
     "name": "stdout",
     "output_type": "stream",
     "text": [
      "{'ner': 212.6010529451749}\n"
     ]
    },
    {
     "name": "stderr",
     "output_type": "stream",
     "text": [
      " 21%|██▏       | 64/300 [00:04<00:17, 13.63it/s]\n",
      "  1%|          | 2/300 [00:00<00:20, 14.68it/s]"
     ]
    },
    {
     "name": "stdout",
     "output_type": "stream",
     "text": [
      "{'ner': 373.9472283591279}\n"
     ]
    },
    {
     "name": "stderr",
     "output_type": "stream",
     "text": [
      "  8%|▊         | 24/300 [00:01<00:21, 12.87it/s]\n",
      "  1%|          | 2/300 [00:00<00:25, 11.83it/s]"
     ]
    },
    {
     "name": "stdout",
     "output_type": "stream",
     "text": [
      "{'ner': 134.30186874554812}\n"
     ]
    },
    {
     "name": "stderr",
     "output_type": "stream",
     "text": [
      "  1%|          | 3/300 [00:00<00:23, 12.44it/s]\n",
      "  1%|          | 2/300 [00:00<00:26, 11.08it/s]"
     ]
    },
    {
     "name": "stdout",
     "output_type": "stream",
     "text": [
      "{'ner': 15.886272284931538}\n"
     ]
    },
    {
     "name": "stderr",
     "output_type": "stream",
     "text": [
      "  2%|▏         | 6/300 [00:00<00:23, 12.60it/s]\n",
      "  0%|          | 1/300 [00:00<00:32,  9.08it/s]"
     ]
    },
    {
     "name": "stdout",
     "output_type": "stream",
     "text": [
      "{'ner': 33.88168843694724}\n"
     ]
    },
    {
     "name": "stderr",
     "output_type": "stream",
     "text": [
      "  3%|▎         | 10/300 [00:00<00:23, 12.46it/s]\n",
      "  1%|          | 2/300 [00:00<00:19, 15.09it/s]"
     ]
    },
    {
     "name": "stdout",
     "output_type": "stream",
     "text": [
      "{'ner': 37.58096563969956}\n"
     ]
    },
    {
     "name": "stderr",
     "output_type": "stream",
     "text": [
      "  2%|▏         | 6/300 [00:00<00:20, 14.32it/s]\n",
      "  1%|          | 2/300 [00:00<00:24, 12.32it/s]"
     ]
    },
    {
     "name": "stdout",
     "output_type": "stream",
     "text": [
      "{'ner': 3.6363718793121738}\n"
     ]
    },
    {
     "name": "stderr",
     "output_type": "stream",
     "text": [
      " 12%|█▏        | 35/300 [00:02<00:18, 14.22it/s]\n",
      "  0%|          | 1/300 [00:00<00:33,  8.91it/s]"
     ]
    },
    {
     "name": "stdout",
     "output_type": "stream",
     "text": [
      "{'ner': 173.19875393941825}\n"
     ]
    },
    {
     "name": "stderr",
     "output_type": "stream",
     "text": [
      " 12%|█▏        | 36/300 [00:02<00:20, 12.69it/s]\n",
      "  0%|          | 0/300 [00:00<?, ?it/s]\n",
      "  1%|          | 2/300 [00:00<00:29, 10.05it/s]"
     ]
    },
    {
     "name": "stdout",
     "output_type": "stream",
     "text": [
      "{'ner': 121.61737159966455}\n",
      "{}\n"
     ]
    },
    {
     "name": "stderr",
     "output_type": "stream",
     "text": [
      "\n",
      "  3%|▎         | 9/300 [00:00<00:21, 13.55it/s]\n",
      "  1%|          | 2/300 [00:00<00:17, 17.14it/s]"
     ]
    },
    {
     "name": "stdout",
     "output_type": "stream",
     "text": [
      "{'ner': 0.00013678678401190736}\n",
      "{'ner': 53.962981295880276}\n"
     ]
    },
    {
     "name": "stderr",
     "output_type": "stream",
     "text": [
      " 33%|███▎      | 98/300 [00:07<00:15, 13.13it/s]\n",
      "  1%|          | 2/300 [00:00<00:24, 12.15it/s]"
     ]
    },
    {
     "name": "stdout",
     "output_type": "stream",
     "text": [
      "{'ner': 607.1445304091515}\n"
     ]
    },
    {
     "name": "stderr",
     "output_type": "stream",
     "text": [
      "  2%|▏         | 7/300 [00:00<00:23, 12.35it/s]\n",
      "  1%|          | 2/300 [00:00<00:21, 13.84it/s]"
     ]
    },
    {
     "name": "stdout",
     "output_type": "stream",
     "text": [
      "{'ner': 6.073534949661808}\n"
     ]
    },
    {
     "name": "stderr",
     "output_type": "stream",
     "text": [
      "  8%|▊         | 25/300 [00:01<00:20, 13.52it/s]\n",
      "  1%|          | 2/300 [00:00<00:24, 12.35it/s]"
     ]
    },
    {
     "name": "stdout",
     "output_type": "stream",
     "text": [
      "{'ner': 73.08976367789441}\n"
     ]
    },
    {
     "name": "stderr",
     "output_type": "stream",
     "text": [
      "  7%|▋         | 20/300 [00:01<00:20, 13.79it/s]\n",
      "  1%|          | 2/300 [00:00<00:21, 13.59it/s]"
     ]
    },
    {
     "name": "stdout",
     "output_type": "stream",
     "text": [
      "{'ner': 87.26485465614626}\n"
     ]
    },
    {
     "name": "stderr",
     "output_type": "stream",
     "text": [
      " 19%|█▉        | 57/300 [00:04<00:18, 13.06it/s]\n",
      "  1%|          | 2/300 [00:00<00:24, 12.21it/s]"
     ]
    },
    {
     "name": "stdout",
     "output_type": "stream",
     "text": [
      "{'ner': 329.8338724045824}\n"
     ]
    },
    {
     "name": "stderr",
     "output_type": "stream",
     "text": [
      "  6%|▋         | 19/300 [00:01<00:20, 13.56it/s]\n",
      "  1%|          | 2/300 [00:00<00:19, 15.21it/s]"
     ]
    },
    {
     "name": "stdout",
     "output_type": "stream",
     "text": [
      "{'ner': 70.97264340921846}\n"
     ]
    },
    {
     "name": "stderr",
     "output_type": "stream",
     "text": [
      " 12%|█▏        | 37/300 [00:03<00:22, 11.46it/s]\n",
      "  0%|          | 1/300 [00:00<00:30,  9.91it/s]"
     ]
    },
    {
     "name": "stdout",
     "output_type": "stream",
     "text": [
      "{'ner': 93.06164936015111}\n"
     ]
    },
    {
     "name": "stderr",
     "output_type": "stream",
     "text": [
      " 13%|█▎        | 38/300 [00:02<00:19, 13.26it/s]\n",
      "  1%|          | 2/300 [00:00<00:24, 12.20it/s]"
     ]
    },
    {
     "name": "stdout",
     "output_type": "stream",
     "text": [
      "{'ner': 118.8463942088503}\n"
     ]
    },
    {
     "name": "stderr",
     "output_type": "stream",
     "text": [
      "  7%|▋         | 20/300 [00:01<00:22, 12.68it/s]\n",
      "  1%|          | 2/300 [00:00<00:20, 14.47it/s]"
     ]
    },
    {
     "name": "stdout",
     "output_type": "stream",
     "text": [
      "{'ner': 36.23972865905825}\n"
     ]
    },
    {
     "name": "stderr",
     "output_type": "stream",
     "text": [
      "  1%|          | 3/300 [00:00<00:21, 13.78it/s]\n",
      "  1%|          | 2/300 [00:00<00:23, 12.89it/s]\n",
      "  0%|          | 0/300 [00:00<?, ?it/s]"
     ]
    },
    {
     "name": "stdout",
     "output_type": "stream",
     "text": [
      "{'ner': 49.614135271363146}\n",
      "{'ner': 11.492070455854044}\n"
     ]
    },
    {
     "name": "stderr",
     "output_type": "stream",
     "text": [
      "  0%|          | 1/300 [00:00<00:14, 20.89it/s]\n",
      "  1%|          | 2/300 [00:00<00:23, 12.42it/s]"
     ]
    },
    {
     "name": "stdout",
     "output_type": "stream",
     "text": [
      "{'ner': 2.670395540073514}\n"
     ]
    },
    {
     "name": "stderr",
     "output_type": "stream",
     "text": [
      "  3%|▎         | 10/300 [00:00<00:21, 13.77it/s]\n",
      "  1%|          | 2/300 [00:00<00:20, 14.82it/s]"
     ]
    },
    {
     "name": "stdout",
     "output_type": "stream",
     "text": [
      "{'ner': 77.7956406961088}\n"
     ]
    },
    {
     "name": "stderr",
     "output_type": "stream",
     "text": [
      " 13%|█▎        | 39/300 [00:02<00:19, 13.36it/s]\n",
      "  0%|          | 1/300 [00:00<00:30,  9.93it/s]"
     ]
    },
    {
     "name": "stdout",
     "output_type": "stream",
     "text": [
      "{'ner': 148.16297967564185}\n"
     ]
    },
    {
     "name": "stderr",
     "output_type": "stream",
     "text": [
      "  1%|          | 3/300 [00:00<00:24, 11.94it/s]\n",
      "  1%|          | 2/300 [00:00<00:22, 13.32it/s]"
     ]
    },
    {
     "name": "stdout",
     "output_type": "stream",
     "text": [
      "{'ner': 6.639977722869116}\n"
     ]
    },
    {
     "name": "stderr",
     "output_type": "stream",
     "text": [
      "  4%|▍         | 12/300 [00:00<00:20, 13.90it/s]\n",
      "  1%|          | 2/300 [00:00<00:15, 19.16it/s]"
     ]
    },
    {
     "name": "stdout",
     "output_type": "stream",
     "text": [
      "{'ner': 79.7591277036381}\n"
     ]
    },
    {
     "name": "stderr",
     "output_type": "stream",
     "text": [
      "  8%|▊         | 25/300 [00:01<00:20, 13.41it/s]\n",
      "  0%|          | 1/300 [00:00<00:31,  9.54it/s]"
     ]
    },
    {
     "name": "stdout",
     "output_type": "stream",
     "text": [
      "{'ner': 76.8976089790339}\n"
     ]
    },
    {
     "name": "stderr",
     "output_type": "stream",
     "text": [
      "  1%|▏         | 4/300 [00:00<00:25, 11.51it/s]\n",
      "  0%|          | 1/300 [00:00<00:19, 15.65it/s]\n",
      "  0%|          | 0/300 [00:00<?, ?it/s]"
     ]
    },
    {
     "name": "stdout",
     "output_type": "stream",
     "text": [
      "{'ner': 41.07084092331687}\n",
      "{'ner': 0.055027961644701244}\n"
     ]
    },
    {
     "name": "stderr",
     "output_type": "stream",
     "text": [
      "  8%|▊         | 23/300 [00:01<00:21, 12.71it/s]\n",
      "  0%|          | 0/300 [00:00<?, ?it/s]\n",
      "  1%|          | 2/300 [00:00<00:26, 11.39it/s]"
     ]
    },
    {
     "name": "stdout",
     "output_type": "stream",
     "text": [
      "{'ner': 128.47241259579425}\n",
      "{}\n"
     ]
    },
    {
     "name": "stderr",
     "output_type": "stream",
     "text": [
      "  8%|▊         | 24/300 [00:01<00:20, 13.17it/s]\n",
      "  1%|          | 2/300 [00:00<00:22, 13.47it/s]"
     ]
    },
    {
     "name": "stdout",
     "output_type": "stream",
     "text": [
      "{'ner': 119.01099802834395}\n"
     ]
    },
    {
     "name": "stderr",
     "output_type": "stream",
     "text": [
      "  7%|▋         | 21/300 [00:01<00:20, 13.55it/s]\n",
      "  1%|          | 2/300 [00:00<00:21, 13.56it/s]"
     ]
    },
    {
     "name": "stdout",
     "output_type": "stream",
     "text": [
      "{'ner': 65.36366403815063}\n"
     ]
    },
    {
     "name": "stderr",
     "output_type": "stream",
     "text": [
      "  2%|▏         | 5/300 [00:00<00:23, 12.42it/s]\n",
      "  1%|          | 2/300 [00:00<00:22, 13.52it/s]"
     ]
    },
    {
     "name": "stdout",
     "output_type": "stream",
     "text": [
      "{'ner': 8.027108539081224}\n"
     ]
    },
    {
     "name": "stderr",
     "output_type": "stream",
     "text": [
      "  4%|▍         | 13/300 [00:01<00:23, 12.22it/s]\n",
      "  1%|          | 2/300 [00:00<00:22, 13.38it/s]"
     ]
    },
    {
     "name": "stdout",
     "output_type": "stream",
     "text": [
      "{'ner': 24.730119351650142}\n"
     ]
    },
    {
     "name": "stderr",
     "output_type": "stream",
     "text": [
      "  2%|▏         | 5/300 [00:00<00:22, 12.92it/s]\n",
      "  1%|          | 2/300 [00:00<00:24, 12.36it/s]"
     ]
    },
    {
     "name": "stdout",
     "output_type": "stream",
     "text": [
      "{'ner': 8.006540469188016}\n"
     ]
    },
    {
     "name": "stderr",
     "output_type": "stream",
     "text": [
      "  2%|▏         | 6/300 [00:00<00:22, 13.06it/s]\n",
      "  1%|          | 2/300 [00:00<00:20, 14.32it/s]"
     ]
    },
    {
     "name": "stdout",
     "output_type": "stream",
     "text": [
      "{'ner': 11.839158513420703}\n"
     ]
    },
    {
     "name": "stderr",
     "output_type": "stream",
     "text": [
      "  8%|▊         | 24/300 [00:01<00:21, 13.08it/s]"
     ]
    },
    {
     "name": "stdout",
     "output_type": "stream",
     "text": [
      "{'ner': 115.31049517375882}\n"
     ]
    },
    {
     "name": "stderr",
     "output_type": "stream",
     "text": [
      "\n"
     ]
    }
   ],
   "source": [
    "count=0\n",
    "exception_summary=[]\n",
    "exception_annotations=[]\n",
    "with nlp.disable_pipes(*other_pipes):  # only train NER pipeline\n",
    "    optimizer = nlp.begin_training()\n",
    "    for itn in range(n_iter):\n",
    "        random.shuffle(train_data)\n",
    "        losses = {}\n",
    "        try:\n",
    "            for text, annotations in tqdm(train_data):\n",
    "                nlp.update(\n",
    "                    [text],  # batch of texts\n",
    "                    [annotations],  # batch of annotations\n",
    "                    drop=0.5,  # dropout makes it harder for the model to memorize the training data.\n",
    "                    sgd=optimizer,  # callable to update weights\n",
    "                    losses=losses)\n",
    "        except:\n",
    "            count+=1\n",
    "            exception_summary.append(text)\n",
    "            exception_annotations.append(annotations)   \n",
    "        print(losses)"
   ]
  },
  {
   "cell_type": "code",
   "execution_count": 20,
   "metadata": {},
   "outputs": [
    {
     "name": "stdout",
     "output_type": "stream",
     "text": [
      "100\n"
     ]
    }
   ],
   "source": [
    "print(count)"
   ]
  },
  {
   "cell_type": "markdown",
   "metadata": {},
   "source": [
    "### Save/Download the model "
   ]
  },
  {
   "cell_type": "code",
   "execution_count": 21,
   "metadata": {},
   "outputs": [],
   "source": [
    "nlp.to_disk(r'ner_spacy_model')"
   ]
  },
  {
   "cell_type": "markdown",
   "metadata": {},
   "source": [
    "### Load the model for testing"
   ]
  },
  {
   "cell_type": "code",
   "execution_count": 22,
   "metadata": {},
   "outputs": [],
   "source": [
    "nlp2 = spacy.load(r'ner_spacy_model')"
   ]
  },
  {
   "cell_type": "markdown",
   "metadata": {},
   "source": [
    "### Test model"
   ]
  },
  {
   "cell_type": "code",
   "execution_count": 23,
   "metadata": {},
   "outputs": [
    {
     "name": "stdin",
     "output_type": "stream",
     "text": [
      " KALYANI INVESTMENT COMPANY LTD.has informed BSE that the meeting of the Board of Directors of the Company is scheduled on 09/11/2020 ,inter alia, to consider and approve Pursuant to Regulation 29 of SEBI (Listing Obligations and Disclosure Requirements) Regulations, 2015, this is to inform you that the meeting of the Board of Directors of the Company is scheduled to be held on Monday, November 9, 2020, inter alia, to consider and approve the Unaudited (Standalone &amp; Consolidated) Financial Results for the quarter and half year ended September 30, 2020. &lt;BR&gt; &lt;BR&gt; The Trading Window for dealing in securities of the Company, for all Designated and Connected Persons including their immediate relatives, shall be re-opened from Thursday, November 12, 2020. &lt;BR&gt;\n"
     ]
    }
   ],
   "source": [
    "text = input()"
   ]
  },
  {
   "cell_type": "code",
   "execution_count": 24,
   "metadata": {},
   "outputs": [
    {
     "name": "stdout",
     "output_type": "stream",
     "text": [
      "['KALYANI INVESTMENT COMPANY LTD.has informed BSE that the meeting of the Board of Directors of the Company is scheduled on 09/11/2020 ,inter alia, to consider and approve Pursuant to Regulation 29 of SEBI (Listing Obligations and Disclosure Requirements) Regulations, 2015, this is to inform you that the meeting of the Board of Directors of the Company is scheduled to be held on Monday, November 9, 2020, inter alia, to consider and approve the Unaudited (Standalone &amp; Consolidated) Financial Results for the quarter and half year ended September 30, 2020.', '&lt;BR&gt; &lt;BR&gt; The Trading Window for dealing in securities of the Company, for all Designated and Connected Persons including their immediate relatives, shall be re-opened from Thursday, November 12, 2020.', '&lt;BR&gt;']\n"
     ]
    }
   ],
   "source": [
    "'''\n",
    "tokenize the input text\n",
    "'''\n",
    "sentences = sent_tokenize(text)\n",
    "print(sentences)"
   ]
  },
  {
   "cell_type": "code",
   "execution_count": 25,
   "metadata": {},
   "outputs": [
    {
     "name": "stdout",
     "output_type": "stream",
     "text": [
      "Type -> meeting of the Board of Directors\n",
      "Int -> scheduled on\n",
      "SDate -> 09/11/2020\n"
     ]
    }
   ],
   "source": [
    "'''\n",
    "test the model\n",
    "'''\n",
    "for sentence in sentences:\n",
    "    doc2 = nlp2(sentence)\n",
    "    #print(doc2)\n",
    "    for ent in doc2.ents:\n",
    "        print(ent.label_, \"->\", ent.text)"
   ]
  },
  {
   "cell_type": "code",
   "execution_count": 26,
   "metadata": {},
   "outputs": [
    {
     "name": "stdout",
     "output_type": "stream",
     "text": [
      "Type -> meeting of the Board of Directors\n",
      "Int -> scheduled on\n",
      "SDate -> 09/11/2020\n"
     ]
    }
   ],
   "source": [
    "doc2 = nlp2(text)\n",
    "    #print(doc2)\n",
    "for ent in doc2.ents:\n",
    "    print(ent.label_, \"->\", ent.text)"
   ]
  },
  {
   "cell_type": "code",
   "execution_count": 27,
   "metadata": {},
   "outputs": [
    {
     "name": "stdout",
     "output_type": "stream",
     "text": [
      "Force Motors Ltd has informed BSE that the Board of Directors of the Company at its meeting held on June 29, 2020, inter alia, has recommended a dividend of Rs. 10/- (Rupees ten only) per equity share of Rs. 10/- each, for the Financial Year ended March 31, 2020.\n",
      "{'entities': [(145, 153, 'Div'), (157, 163, 'OfferV'), (157, 163, 'FaceV'), (100, 113, 'AnnDate'), (131, 142, 'Dec')]}\n",
      "******************************************************\n",
      "The Board of Directors of the Company has also recommended, subject to the approval of the Shareholders at the Annual General Meeting dividend as under: Dividend @ 125% i.e Rs. 2.50 /- per Equity Share of the face value of Rs. 2/- each for the financial year ended 31° March, 2020. \n",
      "{'entities': [(134, 142, 'Div'), (164, 168, 'Percent'), (173, 181, 'OfferV'), (173, 178, 'FaceV'), (47, 58, 'Dec')]}\n",
      "******************************************************\n",
      "This is to inform you that the Board of Directors at its Meeting held today has recommended Bonus Issue of Equity Shares in the ratio of 1 (One) Equity Share of Re. 1/- each for every 1 (One) Equity Share of Re.1/- each held by the shareholders of the Company as on the record date, subject to the approval of the shareholders. &lt;BR&gt; &lt;BR&gt; The details pertaining to the Bonus Issue of Equity Shares as per Regulation 30 of the SEBI (Listing Obligations and Disclosure Requirements) Regulations, 2015 is provided in the Annexure.&lt;BR&gt; &lt;BR&gt; &lt;BR&gt; The above information is also available on the website of the Company: www.tcs.com&lt;BR&gt;\n",
      "{'entities': [(137, 144, 'BonusReq'), (137, 144, 'BonusProv'), (80, 91, 'BonusDec')]}\n",
      "******************************************************\n",
      "This is to inform you that the Board of Directors at its Meeting held today has recommended Bonus Issue of Equity Shares in the ratio of 1 (One) Equity Share of Re. 1/- each for every 1 (One) Equity Share of Re.1/- each held by the shareholders of the Company as on the record date, subject to the approval of the shareholders. &lt;BR&gt; &lt;BR&gt; The details pertaining to the Bonus Issue of Equity Shares as per Regulation 30 of the SEBI (Listing Obligations and Disclosure Requirements) Regulations, 2015 is provided in the Annexure.&lt;BR&gt; &lt;BR&gt; &lt;BR&gt; The above information is also available on the website of the Company: www.tcs.com&lt;BR&gt;\n",
      "{'entities': [(137, 144, 'BonusReq'), (137, 144, 'BonusProv'), (80, 91, 'BonusDec')]}\n",
      "******************************************************\n",
      "The Board of Directors of the Company has also recommended, subject to the approval of the Shareholders at the Annual General Meeting dividend as under: Dividend @ 125% i.e Rs. 2.50 /- per Equity Share of the face value of Rs. 2/- each for the financial year ended 31° March, 2020. \n",
      "{'entities': [(134, 142, 'Div'), (164, 168, 'Percent'), (173, 181, 'OfferV'), (173, 178, 'FaceV'), (47, 58, 'Dec')]}\n",
      "******************************************************\n"
     ]
    }
   ],
   "source": [
    "temp_count=0\n",
    "for i,j in zip(exception_summary,exception_annotations):\n",
    "    if(temp_count==5):\n",
    "        break\n",
    "    print(i)\n",
    "    print(j)\n",
    "    print(\"******************************************************\")\n",
    "    temp_count+=1"
   ]
  },
  {
   "cell_type": "code",
   "execution_count": 28,
   "metadata": {},
   "outputs": [],
   "source": [
    "import pandas as pd\n",
    "df = pd.DataFrame(columns=['Summary','annotations'])\n",
    "df['Summary']=exception_summary\n",
    "df['annotations']=exception_annotations\n",
    "df.to_csv(\"exception.csv\",index=False)\n"
   ]
  },
  {
   "cell_type": "code",
   "execution_count": 29,
   "metadata": {},
   "outputs": [],
   "source": [
    "test=\"rs 10 and rs 10 writing shit rifafas now and rs 10\""
   ]
  },
  {
   "cell_type": "code",
   "execution_count": 30,
   "metadata": {},
   "outputs": [
    {
     "name": "stdout",
     "output_type": "stream",
     "text": [
      "0   5\n",
      "10   15\n",
      "45   50\n"
     ]
    }
   ],
   "source": [
    "def findOccurrences(test_str, test_sub):\n",
    "    len_test=len(test_sub)\n",
    "    res = [i for i in range(len(test_str)) if test_str.startswith(test_sub, i)] \n",
    "    for _ in res:\n",
    "        print(_,\" \",_+len_test)\n",
    "findOccurrences(test,'rs 10')"
   ]
  },
  {
   "cell_type": "code",
   "execution_count": 79,
   "metadata": {},
   "outputs": [
    {
     "name": "stdout",
     "output_type": "stream",
     "text": [
      "1\n",
      "Essel Propack Ltd has informed BSE that Board of Directors of the Company at its Meeting held on April 26, 2014 has recommended Bonus Issue of Equity Shares in the ratio of 1 (One) Equity Share of Rs. 2/- each for every 1 (One) Equity Share of Rs. 2/- each held by the shareholders of the Company as on the record date/date fixed for this purpose, subject to the approval of the Members. \n",
      "\n",
      "{'entities': [(173, 180, 'BonusReq'), (173, 180, 'BonusProv'), (116, 127, 'BonusDec')]} \n",
      "\n",
      "(173, 180, 'BonusReq')  --->    1 (One)\n",
      "173 , 180\n",
      "220 , 227\n",
      "(173, 180, 'BonusProv')  --->    1 (One)\n",
      "173 , 180\n",
      "220 , 227\n",
      "(116, 127, 'BonusDec')  --->    recommended\n",
      "*******************************************************************************************\n",
      "2\n",
      "We would like to inform you that at the Board Meeting held today, the Directors have declared a second interim dividend of Rs. 12 per Equity Share of Rs. 1 each of the Company.&lt;BR&gt; &lt;BR&gt; The second interim dividend shall be paid on Tuesday, November 3, 2020 to the equity shareholders of the Company, whose names appear on the Register of Members of the Company or in the records of the Depositories as beneficial owners of the shares as on Thursday, October 15, 2020 which is the Record Date fixed for the purpose. \n",
      "\n",
      "{'entities': [(111, 119, 'Div'), (123, 129, 'OfferV'), (123, 128, 'FaceV'), (252, 268, 'DivExDate'), (85, 93, 'Dec')]} \n",
      "\n",
      "(111, 119, 'Div')  --->    dividend\n",
      "111 , 119\n",
      "217 , 225\n",
      "(123, 129, 'OfferV')  --->    Rs. 12\n",
      "(123, 128, 'FaceV')  --->    Rs. 1\n",
      "123 , 128\n",
      "150 , 155\n",
      "(252, 268, 'DivExDate')  --->    November 3, 2020\n",
      "(85, 93, 'Dec')  --->    declared\n",
      "*******************************************************************************************\n",
      "3\n",
      "LG Balakrishnan &amp; Bros Ltd has informed BSE that the Board of Directors of the Company at its meeting held on April 28, 2018, inter alia, had considered and approved the following:&lt;BR&gt;&lt;BR&gt;1. The Board of Directors have recommended a Dividend of Rs. 4.50/- per Share of Rs.10/-each (45% on the face value of Rs.10/- each) for the financial year ended March 31, 2018, subject to the approval of shareholders in the upcoming&lt;BR&gt;Annual General Meeting.&lt;BR&gt;&lt;BR&gt;2. Board of Directors had recommended issue of Bonus shares to the Shareholders of the Company in ratio of 1 (One) Bonus Equity Share of Rs. 10/- each fully paid-up for every 1 (One) existing Equity Share of Rs.10/- each fully paid-up (in the ratio of 1:1) held by the shareholders as on the Record date to be fixed separately subject to Shareholders and other regulatory approvals as may be required. The approval of Shareholders is being sought through postal ballot route. \n",
      "\n",
      "{'entities': [(597, 604, 'BonusReq'), (597, 604, 'BonusProv'), (235, 246, 'BonusDec')]} \n",
      "\n",
      "(597, 604, 'BonusReq')  --->    1 (One)\n",
      "597 , 604\n",
      "665 , 672\n",
      "(597, 604, 'BonusProv')  --->    1 (One)\n",
      "597 , 604\n",
      "665 , 672\n",
      "(235, 246, 'BonusDec')  --->    recommended\n",
      "235 , 246\n",
      "516 , 527\n",
      "*******************************************************************************************\n",
      "4\n",
      "The Board of Directors of the Company has also recommended, subject to the approval of the Shareholders at the Annual General Meeting dividend as under: Dividend @ 125% i.e Rs. 2.50 /- per Equity Share of the face value of Rs. 2/- each for the financial year ended 31° March, 2020.  \n",
      "\n",
      "{'entities': [(134, 142, 'Div'), (164, 168, 'Percent'), (173, 181, 'OfferV'), (173, 178, 'FaceV'), (47, 58, 'Dec')]} \n",
      "\n",
      "(134, 142, 'Div')  --->    dividend\n",
      "(164, 168, 'Percent')  --->    125%\n",
      "(173, 181, 'OfferV')  --->    Rs. 2.50\n",
      "(173, 178, 'FaceV')  --->    Rs. 2\n",
      "173 , 178\n",
      "223 , 228\n",
      "(47, 58, 'Dec')  --->    recommended\n",
      "*******************************************************************************************\n",
      "5\n",
      "Force Motors Ltd has informed BSE that the Board of Directors of the Company at its meeting held on June 29, 2020, inter alia, has recommended a dividend of Rs. 10/- (Rupees ten only) per equity share of Rs. 10/- each, for the Financial Year ended March 31, 2020. \n",
      "\n",
      "{'entities': [(145, 153, 'Div'), (157, 163, 'OfferV'), (157, 163, 'FaceV'), (100, 113, 'AnnDate'), (131, 142, 'Dec')]} \n",
      "\n",
      "(145, 153, 'Div')  --->    dividend\n",
      "(157, 163, 'OfferV')  --->    Rs. 10\n",
      "157 , 163\n",
      "204 , 210\n",
      "(157, 163, 'FaceV')  --->    Rs. 10\n",
      "157 , 163\n",
      "204 , 210\n",
      "(100, 113, 'AnnDate')  --->    June 29, 2020\n",
      "(131, 142, 'Dec')  --->    recommended\n",
      "*******************************************************************************************\n",
      "6\n",
      "We wish to inform you that the Board of Directors of the Company at their meeting held today, which started at 4.45 p.m. and concluded at 7.15 p.m., have :&lt;BR&gt; &lt;BR&gt; a) approved the Audited Financial Results (Standalone &amp; Consolidated) and Statement of Assets &amp; Liabilities and Cash Flow statement for the financial year ended March 31, 2020 together with Audit Report (copy attached).&lt;BR&gt; &lt;BR&gt; b) recommended a dividend of Rs.0.40 per share (4%) each on Non-convertible Cumulative Redeemable Preference Shares (Unlisted) of Rs.10/- each for the financial year ended March 31, 2020, for approval of the members at the forthcoming Annual General Meeting.&lt;BR&gt; &lt;BR&gt; c) recommended a dividend of Rs.1/- per share (10%) on Equity Shares (Listed) of Rs.10/- each for the financial year ended March 31, 2020, for approval of the members at the forthcoming Annual General Meeting.&lt;BR&gt; \n",
      "\n",
      "{'entities': [(443, 451, 'Div'), (753, 756, 'Percent'), (556, 560, 'OfferV'), (556, 561, 'FaceV'), (429, 440, 'Dec')]} \n",
      "\n",
      "(443, 451, 'Div')  --->    dividend\n",
      "443 , 451\n",
      "723 , 731\n",
      "(753, 756, 'Percent')  --->    10%\n",
      "(556, 560, 'OfferV')  --->    Rs.1\n",
      "556 , 560\n",
      "735 , 739\n",
      "787 , 791\n",
      "(556, 561, 'FaceV')  --->    Rs.10\n",
      "556 , 561\n",
      "787 , 792\n",
      "(429, 440, 'Dec')  --->    recommended\n",
      "429 , 440\n",
      "709 , 720\n",
      "*******************************************************************************************\n",
      "7\n",
      "Recommended a dividend of Rs. 10/- per Ordinary Share of Rs. 10/- each (100%) and Rs. 2.504 per partly paid Ordinary Share of Rs. 10/- each (paid-up Rs. 2.504 per share) (100%) to the shareholders for the Financial Year ended March 31, 2020. \n",
      "\n",
      "{'entities': [(14, 22, 'Div'), (72, 76, 'Percent'), (26, 32, 'OfferV'), (26, 32, 'FaceV'), (0, 11, 'Dec')]} \n",
      "\n",
      "(14, 22, 'Div')  --->    dividend\n",
      "(72, 76, 'Percent')  --->    100%\n",
      "72 , 76\n",
      "171 , 175\n",
      "(26, 32, 'OfferV')  --->    Rs. 10\n",
      "26 , 32\n",
      "57 , 63\n",
      "126 , 132\n",
      "(26, 32, 'FaceV')  --->    Rs. 10\n",
      "26 , 32\n",
      "57 , 63\n",
      "126 , 132\n",
      "(0, 11, 'Dec')  --->    Recommended\n",
      "*******************************************************************************************\n",
      "8\n",
      "Oriental Aromatics Ltd has informed BSE that the Board of Directors of the Company at its meeting held October 26, 2018, inter alia, had considered and approved the following, subject to approval of the shareholders:&lt;BR&gt;&lt;BR&gt;1. Sub-division of equity shares of face value of Rs. 10/- each into equity shares of face value of Rs. 5/- each; and&lt;BR&gt;&lt;BR&gt;2. Issue of 1 (one) fully paid bonus equity share of the face value of Rs. 5/- each for 1 (one) equity share of the face value of Rs. 5/- each (i.e. as adjusted for sub-division of shares); \n",
      "\n",
      "{'entities': [(385, 392, 'BonusReq'), (385, 392, 'BonusProv'), (137, 147, 'BonusDec')]} \n",
      "\n",
      "(385, 392, 'BonusReq')  --->    1 (one)\n",
      "385 , 392\n",
      "461 , 468\n",
      "(385, 392, 'BonusProv')  --->    1 (one)\n",
      "385 , 392\n",
      "461 , 468\n",
      "(137, 147, 'BonusDec')  --->    considered\n",
      "*******************************************************************************************\n",
      "9\n",
      "Board recommends Capitalization of Reserves and issue of fully paid Bonus Shares in the ratio of one Bonus equity share of Rs. 5/- each for one existing equity share of Rs. 5/- each subject to the approval of shareholders which would be taken through the process of Postal Ballot and remote E-voting. \n",
      "\n",
      "{'entities': [(97, 100, 'BonusReq'), (97, 100, 'BonusProv'), (6, 16, 'BonusDec')]} \n",
      "\n",
      "(97, 100, 'BonusReq')  --->    one\n",
      "97 , 100\n",
      "140 , 143\n",
      "(97, 100, 'BonusProv')  --->    one\n",
      "97 , 100\n",
      "140 , 143\n",
      "(6, 16, 'BonusDec')  --->    recommends\n",
      "*******************************************************************************************\n",
      "10\n",
      "The Indian Wood Products Company Ltd has informed BSE that the Board of Directors of the Company at its meeting held on January 02, 2019, inter alia, has considered and, subject to the approval of shareholder, recommends:&lt;BR&gt;&lt;BR&gt;1. Sub-Division of Equity Shares of the Company from the existing face value of Rs. 10/- per Equity Shares to face value of Rs. 2/- per Equity Shares as on the Record Date to be fixed on a later date.&lt;BR&gt;&lt;BR&gt;2. Issue of Bonus Shares in a proportion 1 (One) Bonus Shares of Rs. 2/- (Rupees Two) each for every existing 1 (One) fully paid-up Equity Shares of Rs. 2/- (Rupees Two) each held by the shareholders of the Company as on the Record Date to be fixed on a later date. \n",
      "\n",
      "{'entities': [(502, 509, 'BonusReq'), (502, 509, 'BonusProv'), (210, 220, 'BonusDec')]} \n",
      "\n",
      "(502, 509, 'BonusReq')  --->    1 (One)\n",
      "502 , 509\n",
      "571 , 578\n",
      "(502, 509, 'BonusProv')  --->    1 (One)\n",
      "502 , 509\n",
      "571 , 578\n",
      "(210, 220, 'BonusDec')  --->    recommends\n",
      "*******************************************************************************************\n",
      "11\n",
      "The Board declared an interim dividend of Rs.10 (100%) per equity share of Rs.10 each. &lt;BR&gt; &lt;BR&gt; As intimated vide our letter dated October 13, 2020, Thursday, October 29, 2020 is fixed as the Record Date to ascertain the list of shareholders eligible for the aforesaid interim dividend to be paid on or before November 19, 2020.&lt;BR&gt; \n",
      "\n",
      "{'entities': [(30, 38, 'Div'), (49, 53, 'Percent'), (42, 47, 'OfferV'), (42, 47, 'FaceV'), (323, 340, 'DivExDate'), (10, 18, 'Dec')]} \n",
      "\n",
      "(30, 38, 'Div')  --->    dividend\n",
      "30 , 38\n",
      "290 , 298\n",
      "(49, 53, 'Percent')  --->    100%\n",
      "(42, 47, 'OfferV')  --->    Rs.10\n",
      "42 , 47\n",
      "75 , 80\n",
      "(42, 47, 'FaceV')  --->    Rs.10\n",
      "42 , 47\n",
      "75 , 80\n",
      "(323, 340, 'DivExDate')  --->    November 19, 2020\n",
      "(10, 18, 'Dec')  --->    declared\n",
      "*******************************************************************************************\n",
      "12\n",
      "This is to inform you that the Board of Directors at its Meeting held today has recommended Bonus Issue of Equity Shares in the ratio of 1 (One) Equity Share of Re. 1/- each for every 1 (One) Equity Share of Re.1/- each held by the shareholders of the Company as on the record date, subject to the approval of the shareholders. &lt;BR&gt; &lt;BR&gt; The details pertaining to the Bonus Issue of Equity Shares as per Regulation 30 of the SEBI (Listing Obligations and Disclosure Requirements) Regulations, 2015 is provided in the Annexure.&lt;BR&gt; &lt;BR&gt; &lt;BR&gt; The above information is also available on the website of the Company: www.tcs.com&lt;BR&gt; \n",
      "\n",
      "{'entities': [(137, 144, 'BonusReq'), (137, 144, 'BonusProv'), (80, 91, 'BonusDec')]} \n",
      "\n",
      "(137, 144, 'BonusReq')  --->    1 (One)\n",
      "137 , 144\n",
      "184 , 191\n",
      "(137, 144, 'BonusProv')  --->    1 (One)\n",
      "137 , 144\n",
      "184 , 191\n",
      "(80, 91, 'BonusDec')  --->    recommended\n",
      "*******************************************************************************************\n",
      "13\n",
      "Thyrocare Technologies Ltd has informed BSE that the Board of Directors of the Company at its meeting held on October 28, 2020, inter alia, have approved payment of interim dividend for the financial year 2020-21, at the rate of Rs. 10/- (Rupees Ten only) per share (100% of the face value of Rs. 10/? each). \n",
      "\n",
      "{'entities': [(173, 181, 'Div'), (267, 271, 'Percent'), (229, 235, 'OfferV'), (229, 235, 'FaceV'), (145, 153, 'Dec')]} \n",
      "\n",
      "(173, 181, 'Div')  --->    dividend\n",
      "(267, 271, 'Percent')  --->    100%\n",
      "(229, 235, 'OfferV')  --->    Rs. 10\n",
      "229 , 235\n",
      "293 , 299\n",
      "(229, 235, 'FaceV')  --->    Rs. 10\n",
      "229 , 235\n",
      "293 , 299\n",
      "(145, 153, 'Dec')  --->    approved\n",
      "*******************************************************************************************\n",
      "14\n",
      "Jubilant FoodWorks Ltd has informed BSE that the Board of Directors of the Company at its meeting held on May 08, 2018, inter alia, has recommended issue of Bonus Shares to the holders of equity shares of the Company in the proportion of 1 (one) equity share of INR 10/- (Rupees Ten) each fully paid up for every 1 (one) equity share of INR 10/- (Rupees Ten) each fully paid up held as on the record date. Record date will be intimated in due course.&lt;BR&gt;&lt;BR&gt;Subject to the shareholders&apos; approval, Bonus Shares will be credited to the demat account of the shareholders or share certificates in respect thereof will be dispatched to shareholders on or before July 07, 2018.&lt;BR&gt;&lt;BR&gt;For the purpose of issue of Bonus Shares, the Board of Directors have also approved increase in Authorised Share Capital of the Company from INR 80 crores to INR 150 crores, subject to approval of the shareholders of the Company. \n",
      "\n",
      "{'entities': [(238, 245, 'BonusReq'), (238, 245, 'BonusProv'), (136, 147, 'BonusDec')]} \n",
      "\n",
      "(238, 245, 'BonusReq')  --->    1 (one)\n",
      "238 , 245\n",
      "313 , 320\n",
      "(238, 245, 'BonusProv')  --->    1 (one)\n",
      "238 , 245\n",
      "313 , 320\n",
      "(136, 147, 'BonusDec')  --->    recommended\n",
      "*******************************************************************************************\n",
      "15\n",
      "The Board of Directors has considered, approved and recommended issue of one Bonus Share for every one equity share held by the equity shareholders of the&lt;BR&gt; Company. The bonus issue of equity shares is subject to the approval of the shareholders and any other applicable statutory and regulatory approvals, as may be required.&lt;BR&gt; &lt;BR&gt; The Bonus shares once allotted shall rank pari-passu in all respects and carry the same rights of the existing Equity Shares and shall be entitled to participate in full in any dividend and other corporate action, recommended and declared after the issue and allotment of such Bonus Shares.&lt;BR&gt; The details pertaining to the Bonus issue of equity shares as per Regulations 30 of the SEBI (Listing Obligations and Disclosure Requirements) Regulations, 2015. \n",
      "\n",
      "{'entities': [(73, 76, 'BonusReq'), (73, 76, 'BonusProv'), (52, 63, 'BonusDec')]} \n",
      "\n",
      "(73, 76, 'BonusReq')  --->    one\n",
      "73 , 76\n",
      "99 , 102\n",
      "(73, 76, 'BonusProv')  --->    one\n",
      "73 , 76\n",
      "99 , 102\n",
      "(52, 63, 'BonusDec')  --->    recommended\n",
      "52 , 63\n",
      "570 , 581\n",
      "*******************************************************************************************\n"
     ]
    }
   ],
   "source": [
    "def findOccurrences(test_str, test_sub):\n",
    "    len_test=len(test_sub)\n",
    "    res = [i for i in range(len(test_str)) if test_str.startswith(test_sub, i)] \n",
    "    count=0\n",
    "    ret=[]\n",
    "    for _ in res:\n",
    "        count+=1\n",
    "        ret.append([_,_+len_test])\n",
    "        #print(_,\" \",_+len_test)    \n",
    "    return(count,ret)\n",
    "\n",
    "new=[]\n",
    "d = dict()\n",
    "\n",
    "temp_count=1\n",
    "for i,j in zip(exception_summary,exception_annotations):\n",
    "    print(temp_count)\n",
    "    print(i,'\\n')\n",
    "    print(j,'\\n')\n",
    "    \n",
    "    #print(j['entities'])\n",
    "    for k in j['entities']:\n",
    "        print(k ,\" --->   \",i[k[0]:k[1]])\n",
    "        \n",
    "        cnt,ret=findOccurrences(i,i[k[0]:k[1]])\n",
    "        if(cnt>1):\n",
    "            for _ in ret:\n",
    "                print(_[0],\",\",_[1])\n",
    "            #print('\\n')\n",
    "            \n",
    "        #print('\\n')\n",
    "    \n",
    "    temp_count+=1\n",
    "    print(\"*******************************************************************************************\")\n",
    "    \n",
    "    \n",
    "    s = (i)\n",
    "    "
   ]
  },
  {
   "cell_type": "code",
   "execution_count": 80,
   "metadata": {},
   "outputs": [
    {
     "data": {
      "text/plain": [
       "[{'entities': [(173, 180, 'BonusReq'),\n",
       "   (173, 180, 'BonusProv'),\n",
       "   (116, 127, 'BonusDec')]},\n",
       " {'entities': [(111, 119, 'Div'),\n",
       "   (123, 129, 'OfferV'),\n",
       "   (123, 128, 'FaceV'),\n",
       "   (252, 268, 'DivExDate'),\n",
       "   (85, 93, 'Dec')]},\n",
       " {'entities': [(597, 604, 'BonusReq'),\n",
       "   (597, 604, 'BonusProv'),\n",
       "   (235, 246, 'BonusDec')]},\n",
       " {'entities': [(134, 142, 'Div'),\n",
       "   (164, 168, 'Percent'),\n",
       "   (173, 181, 'OfferV'),\n",
       "   (173, 178, 'FaceV'),\n",
       "   (47, 58, 'Dec')]},\n",
       " {'entities': [(145, 153, 'Div'),\n",
       "   (157, 163, 'OfferV'),\n",
       "   (157, 163, 'FaceV'),\n",
       "   (100, 113, 'AnnDate'),\n",
       "   (131, 142, 'Dec')]},\n",
       " {'entities': [(443, 451, 'Div'),\n",
       "   (753, 756, 'Percent'),\n",
       "   (556, 560, 'OfferV'),\n",
       "   (556, 561, 'FaceV'),\n",
       "   (429, 440, 'Dec')]},\n",
       " {'entities': [(14, 22, 'Div'),\n",
       "   (72, 76, 'Percent'),\n",
       "   (26, 32, 'OfferV'),\n",
       "   (26, 32, 'FaceV'),\n",
       "   (0, 11, 'Dec')]},\n",
       " {'entities': [(385, 392, 'BonusReq'),\n",
       "   (385, 392, 'BonusProv'),\n",
       "   (137, 147, 'BonusDec')]},\n",
       " {'entities': [(97, 100, 'BonusReq'),\n",
       "   (97, 100, 'BonusProv'),\n",
       "   (6, 16, 'BonusDec')]},\n",
       " {'entities': [(502, 509, 'BonusReq'),\n",
       "   (502, 509, 'BonusProv'),\n",
       "   (210, 220, 'BonusDec')]},\n",
       " {'entities': [(30, 38, 'Div'),\n",
       "   (49, 53, 'Percent'),\n",
       "   (42, 47, 'OfferV'),\n",
       "   (42, 47, 'FaceV'),\n",
       "   (323, 340, 'DivExDate'),\n",
       "   (10, 18, 'Dec')]},\n",
       " {'entities': [(137, 144, 'BonusReq'),\n",
       "   (137, 144, 'BonusProv'),\n",
       "   (80, 91, 'BonusDec')]},\n",
       " {'entities': [(173, 181, 'Div'),\n",
       "   (267, 271, 'Percent'),\n",
       "   (229, 235, 'OfferV'),\n",
       "   (229, 235, 'FaceV'),\n",
       "   (145, 153, 'Dec')]},\n",
       " {'entities': [(238, 245, 'BonusReq'),\n",
       "   (238, 245, 'BonusProv'),\n",
       "   (136, 147, 'BonusDec')]},\n",
       " {'entities': [(73, 76, 'BonusReq'),\n",
       "   (73, 76, 'BonusProv'),\n",
       "   (52, 63, 'BonusDec')]}]"
      ]
     },
     "execution_count": 80,
     "metadata": {},
     "output_type": "execute_result"
    }
   ],
   "source": [
    "exception_annotations"
   ]
  },
  {
   "cell_type": "code",
   "execution_count": 81,
   "metadata": {},
   "outputs": [
    {
     "data": {
      "text/plain": [
       "['Essel Propack Ltd has informed BSE that Board of Directors of the Company at its Meeting held on April 26, 2014 has recommended Bonus Issue of Equity Shares in the ratio of 1 (One) Equity Share of Rs. 2/- each for every 1 (One) Equity Share of Rs. 2/- each held by the shareholders of the Company as on the record date/date fixed for this purpose, subject to the approval of the Members.',\n",
       " 'We would like to inform you that at the Board Meeting held today, the Directors have declared a second interim dividend of Rs. 12 per Equity Share of Rs. 1 each of the Company.&lt;BR&gt; &lt;BR&gt; The second interim dividend shall be paid on Tuesday, November 3, 2020 to the equity shareholders of the Company, whose names appear on the Register of Members of the Company or in the records of the Depositories as beneficial owners of the shares as on Thursday, October 15, 2020 which is the Record Date fixed for the purpose.',\n",
       " 'LG Balakrishnan &amp; Bros Ltd has informed BSE that the Board of Directors of the Company at its meeting held on April 28, 2018, inter alia, had considered and approved the following:&lt;BR&gt;&lt;BR&gt;1. The Board of Directors have recommended a Dividend of Rs. 4.50/- per Share of Rs.10/-each (45% on the face value of Rs.10/- each) for the financial year ended March 31, 2018, subject to the approval of shareholders in the upcoming&lt;BR&gt;Annual General Meeting.&lt;BR&gt;&lt;BR&gt;2. Board of Directors had recommended issue of Bonus shares to the Shareholders of the Company in ratio of 1 (One) Bonus Equity Share of Rs. 10/- each fully paid-up for every 1 (One) existing Equity Share of Rs.10/- each fully paid-up (in the ratio of 1:1) held by the shareholders as on the Record date to be fixed separately subject to Shareholders and other regulatory approvals as may be required. The approval of Shareholders is being sought through postal ballot route.',\n",
       " 'The Board of Directors of the Company has also recommended, subject to the approval of the Shareholders at the Annual General Meeting dividend as under: Dividend @ 125% i.e Rs. 2.50 /- per Equity Share of the face value of Rs. 2/- each for the financial year ended 31° March, 2020. ',\n",
       " 'Force Motors Ltd has informed BSE that the Board of Directors of the Company at its meeting held on June 29, 2020, inter alia, has recommended a dividend of Rs. 10/- (Rupees ten only) per equity share of Rs. 10/- each, for the Financial Year ended March 31, 2020.',\n",
       " 'We wish to inform you that the Board of Directors of the Company at their meeting held today, which started at 4.45 p.m. and concluded at 7.15 p.m., have :&lt;BR&gt; &lt;BR&gt; a) approved the Audited Financial Results (Standalone &amp; Consolidated) and Statement of Assets &amp; Liabilities and Cash Flow statement for the financial year ended March 31, 2020 together with Audit Report (copy attached).&lt;BR&gt; &lt;BR&gt; b) recommended a dividend of Rs.0.40 per share (4%) each on Non-convertible Cumulative Redeemable Preference Shares (Unlisted) of Rs.10/- each for the financial year ended March 31, 2020, for approval of the members at the forthcoming Annual General Meeting.&lt;BR&gt; &lt;BR&gt; c) recommended a dividend of Rs.1/- per share (10%) on Equity Shares (Listed) of Rs.10/- each for the financial year ended March 31, 2020, for approval of the members at the forthcoming Annual General Meeting.&lt;BR&gt;',\n",
       " 'Recommended a dividend of Rs. 10/- per Ordinary Share of Rs. 10/- each (100%) and Rs. 2.504 per partly paid Ordinary Share of Rs. 10/- each (paid-up Rs. 2.504 per share) (100%) to the shareholders for the Financial Year ended March 31, 2020.',\n",
       " 'Oriental Aromatics Ltd has informed BSE that the Board of Directors of the Company at its meeting held October 26, 2018, inter alia, had considered and approved the following, subject to approval of the shareholders:&lt;BR&gt;&lt;BR&gt;1. Sub-division of equity shares of face value of Rs. 10/- each into equity shares of face value of Rs. 5/- each; and&lt;BR&gt;&lt;BR&gt;2. Issue of 1 (one) fully paid bonus equity share of the face value of Rs. 5/- each for 1 (one) equity share of the face value of Rs. 5/- each (i.e. as adjusted for sub-division of shares);',\n",
       " 'Board recommends Capitalization of Reserves and issue of fully paid Bonus Shares in the ratio of one Bonus equity share of Rs. 5/- each for one existing equity share of Rs. 5/- each subject to the approval of shareholders which would be taken through the process of Postal Ballot and remote E-voting.',\n",
       " 'The Indian Wood Products Company Ltd has informed BSE that the Board of Directors of the Company at its meeting held on January 02, 2019, inter alia, has considered and, subject to the approval of shareholder, recommends:&lt;BR&gt;&lt;BR&gt;1. Sub-Division of Equity Shares of the Company from the existing face value of Rs. 10/- per Equity Shares to face value of Rs. 2/- per Equity Shares as on the Record Date to be fixed on a later date.&lt;BR&gt;&lt;BR&gt;2. Issue of Bonus Shares in a proportion 1 (One) Bonus Shares of Rs. 2/- (Rupees Two) each for every existing 1 (One) fully paid-up Equity Shares of Rs. 2/- (Rupees Two) each held by the shareholders of the Company as on the Record Date to be fixed on a later date.',\n",
       " 'The Board declared an interim dividend of Rs.10 (100%) per equity share of Rs.10 each. &lt;BR&gt; &lt;BR&gt; As intimated vide our letter dated October 13, 2020, Thursday, October 29, 2020 is fixed as the Record Date to ascertain the list of shareholders eligible for the aforesaid interim dividend to be paid on or before November 19, 2020.&lt;BR&gt;',\n",
       " 'This is to inform you that the Board of Directors at its Meeting held today has recommended Bonus Issue of Equity Shares in the ratio of 1 (One) Equity Share of Re. 1/- each for every 1 (One) Equity Share of Re.1/- each held by the shareholders of the Company as on the record date, subject to the approval of the shareholders. &lt;BR&gt; &lt;BR&gt; The details pertaining to the Bonus Issue of Equity Shares as per Regulation 30 of the SEBI (Listing Obligations and Disclosure Requirements) Regulations, 2015 is provided in the Annexure.&lt;BR&gt; &lt;BR&gt; &lt;BR&gt; The above information is also available on the website of the Company: www.tcs.com&lt;BR&gt;',\n",
       " 'Thyrocare Technologies Ltd has informed BSE that the Board of Directors of the Company at its meeting held on October 28, 2020, inter alia, have approved payment of interim dividend for the financial year 2020-21, at the rate of Rs. 10/- (Rupees Ten only) per share (100% of the face value of Rs. 10/? each).',\n",
       " 'Jubilant FoodWorks Ltd has informed BSE that the Board of Directors of the Company at its meeting held on May 08, 2018, inter alia, has recommended issue of Bonus Shares to the holders of equity shares of the Company in the proportion of 1 (one) equity share of INR 10/- (Rupees Ten) each fully paid up for every 1 (one) equity share of INR 10/- (Rupees Ten) each fully paid up held as on the record date. Record date will be intimated in due course.&lt;BR&gt;&lt;BR&gt;Subject to the shareholders&apos; approval, Bonus Shares will be credited to the demat account of the shareholders or share certificates in respect thereof will be dispatched to shareholders on or before July 07, 2018.&lt;BR&gt;&lt;BR&gt;For the purpose of issue of Bonus Shares, the Board of Directors have also approved increase in Authorised Share Capital of the Company from INR 80 crores to INR 150 crores, subject to approval of the shareholders of the Company.',\n",
       " 'The Board of Directors has considered, approved and recommended issue of one Bonus Share for every one equity share held by the equity shareholders of the&lt;BR&gt; Company. The bonus issue of equity shares is subject to the approval of the shareholders and any other applicable statutory and regulatory approvals, as may be required.&lt;BR&gt; &lt;BR&gt; The Bonus shares once allotted shall rank pari-passu in all respects and carry the same rights of the existing Equity Shares and shall be entitled to participate in full in any dividend and other corporate action, recommended and declared after the issue and allotment of such Bonus Shares.&lt;BR&gt; The details pertaining to the Bonus issue of equity shares as per Regulations 30 of the SEBI (Listing Obligations and Disclosure Requirements) Regulations, 2015.']"
      ]
     },
     "execution_count": 81,
     "metadata": {},
     "output_type": "execute_result"
    }
   ],
   "source": [
    "exception_summary"
   ]
  },
  {
   "cell_type": "code",
   "execution_count": 213,
   "metadata": {},
   "outputs": [
    {
     "data": {
      "text/plain": [
       "\"[(173, 181, 'Div'), (267, 271, 'Percent'), (229, 235, 'OfferV'), (293, 299, 'FaceV'), (145, 153, 'Dec')]\""
      ]
     },
     "execution_count": 213,
     "metadata": {},
     "output_type": "execute_result"
    }
   ],
   "source": [
    "l"
   ]
  },
  {
   "cell_type": "code",
   "execution_count": null,
   "metadata": {},
   "outputs": [],
   "source": []
  }
 ],
 "metadata": {
  "kernelspec": {
   "display_name": "Python 3",
   "language": "python",
   "name": "python3"
  },
  "language_info": {
   "codemirror_mode": {
    "name": "ipython",
    "version": 3
   },
   "file_extension": ".py",
   "mimetype": "text/x-python",
   "name": "python",
   "nbconvert_exporter": "python",
   "pygments_lexer": "ipython3",
   "version": "3.7.0"
  }
 },
 "nbformat": 4,
 "nbformat_minor": 4
}
